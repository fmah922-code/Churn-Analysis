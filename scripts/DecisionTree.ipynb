{
 "cells": [
  {
   "cell_type": "code",
   "execution_count": 1,
   "metadata": {},
   "outputs": [],
   "source": [
    "import os\n",
    "import warnings\n",
    "import pandas as pd\n",
    "from sklearn import preprocessing\n",
    "from sklearn.tree import DecisionTreeClassifier\n",
    "from sklearn.metrics import accuracy_score, confusion_matrix, classification_report\n",
    "from sklearn.model_selection import cross_val_score, train_test_split\n",
    "from matplotlib import pyplot as plt\n",
    "from sklearn import tree\n",
    "from scipy.stats import randint\n",
    "from sklearn.model_selection import RandomizedSearchCV, GridSearchCV"
   ]
  },
  {
   "cell_type": "code",
   "execution_count": 2,
   "metadata": {},
   "outputs": [],
   "source": [
    "destination =  os.environ.get('LR_Destination')\n",
    "ChurnData = pd.read_csv(str(destination + '/' + 'WA_Fn-UseC_-Telco-Customer-Churn.csv'))"
   ]
  },
  {
   "cell_type": "markdown",
   "metadata": {},
   "source": [
    "Although Decision Trees can train on complex non-linear relationships to determine the relationship between a feature and a  target variable, it can't understand categorical features that are expressed through strings like 'Yes' or 'No' / 'Female' or 'Male' so we must map to these to numerical values without necessarily needing to create indicator variables unlike with building a logistic regression model."
   ]
  },
  {
   "cell_type": "markdown",
   "metadata": {},
   "source": [
    "### Data Transformation"
   ]
  },
  {
   "cell_type": "code",
   "execution_count": 3,
   "metadata": {},
   "outputs": [],
   "source": [
    "#First drop off customerID column\n",
    "if 'customerID' in ChurnData.columns.values:\n",
    "     ChurnData = ChurnData.drop(['customerID'],axis=1)\n",
    "else:\n",
    "     1==1\n",
    "\n",
    "#Converting Total Charges to Float\n",
    "ChurnData['TotalCharges'] = pd.to_numeric(ChurnData['TotalCharges'], errors='coerce').fillna(pd.to_numeric(ChurnData['TotalCharges'], errors='coerce').mean())\n",
    "\n",
    "\n",
    "unique_values_dict = {}\n",
    "for cols in ChurnData.columns.values:\n",
    "    if ChurnData[cols].dtypes != 'int64' and ChurnData[cols].dtypes != 'float64':\n",
    "          unique_values_dict[cols] = ChurnData[cols].unique()"
   ]
  },
  {
   "cell_type": "code",
   "execution_count": 4,
   "metadata": {},
   "outputs": [],
   "source": [
    "for i in unique_values_dict:\n",
    "    remapped_values = {}\n",
    "    names_and_remapped_values = {}\n",
    "\n",
    "    #for i in range of length of values in key:values for gender\n",
    "    for iterator in range(len(unique_values_dict[i])):\n",
    "        remapped_values[unique_values_dict[i][iterator]] = iterator\n",
    "\n",
    "        names_and_remapped_values[i] = remapped_values \n",
    "\n",
    "    for key in names_and_remapped_values:\n",
    "        ChurnData[key] = ChurnData[key].map(names_and_remapped_values[key])"
   ]
  },
  {
   "cell_type": "markdown",
   "metadata": {},
   "source": [
    "### Hyperparameter Tuning (Helps us find optimal parameters for the ML Model, can be beneficial for potential overfitting)"
   ]
  },
  {
   "cell_type": "code",
   "execution_count": 5,
   "metadata": {},
   "outputs": [
    {
     "name": "stdout",
     "output_type": "stream",
     "text": [
      "Tuned Decision Tree Parameters (RandomizedSearchCV): {'min_samples_leaf': 6, 'max_features': 4, 'max_depth': 9, 'criterion': 'gini'}\n",
      "Best score is 0.779730370795318\n",
      "Tuned Decision Tree Parameters (Grid_Search): {'criterion': 'entropy', 'max_depth': 6, 'max_features': 10, 'min_samples_leaf': 10}\n",
      "Best score is 0.7921547745828897\n",
      "Accuracy for default (Decision Tree): 0.7388218594748048\n"
     ]
    }
   ],
   "source": [
    "from sklearn.datasets import make_classification\n",
    "\n",
    "# ChurnData = ChurnData.dropna()\n",
    "Churn_X = ChurnData.iloc[:, 0:19].to_numpy()\n",
    "Churn_y = ChurnData['Churn'].to_numpy()\n",
    "\n",
    "CD_X_train, CD_X_test, CD_y_train, CD_y_test = train_test_split(\n",
    "    Churn_X, Churn_y, test_size=0.2, random_state=42\n",
    ")\n",
    "\n",
    "array = [i for i in range(1,11)]\n",
    " \n",
    "param_dist = {\n",
    "    \"max_depth\": array,\n",
    "    \"max_features\": array,\n",
    "    \"min_samples_leaf\": array,\n",
    "    \"criterion\": [\"gini\", \"entropy\"]\n",
    "}\n",
    "\n",
    "model = DecisionTreeClassifier()\n",
    "\n",
    "rs = RandomizedSearchCV(model, param_dist, cv=5)\n",
    "rs.fit(CD_X_train, CD_y_train)\n",
    "\n",
    "print(\"Tuned Decision Tree Parameters (RandomizedSearchCV): {}\".format(rs.best_params_))\n",
    "print(\"Best score is {}\".format(rs.best_score_))\n",
    "\n",
    "grid_search = GridSearchCV(estimator= DecisionTreeClassifier(), param_grid= param_dist, cv=3, scoring='accuracy')\n",
    "grid_search.fit(CD_X_train, CD_y_train)\n",
    "\n",
    "print(\"Tuned Decision Tree Parameters (Grid_Search): {}\".format(grid_search.best_params_))\n",
    "print(\"Best score is {}\".format(grid_search.best_score_))\n",
    "\n",
    "model.fit(CD_X_train, CD_y_train)\n",
    "Churn_y_pred = model.predict(CD_X_test)\n",
    "print('Accuracy for default (Decision Tree): ' + str(accuracy_score(CD_y_test, Churn_y_pred)))"
   ]
  },
  {
   "cell_type": "markdown",
   "metadata": {},
   "source": [
    "### Decision Tree Building"
   ]
  },
  {
   "cell_type": "code",
   "execution_count": 6,
   "metadata": {},
   "outputs": [
    {
     "name": "stdout",
     "output_type": "stream",
     "text": [
      "Accuracy: 73.24%\n"
     ]
    }
   ],
   "source": [
    "CD_X_train, CD_X_test, CD_y_train, CD_y_test = train_test_split(\n",
    "    Churn_X, Churn_y, test_size=0.2, random_state=42\n",
    ")\n",
    "\n",
    "model = DecisionTreeClassifier()\n",
    "\n",
    "model.fit(CD_X_train, CD_y_train)\n",
    "\n",
    "Churn_y_pred = model.predict(CD_X_test)\n",
    "\n",
    "round(accuracy_score(CD_y_test, Churn_y_pred)*100, 2)\n",
    "\n",
    "print('Accuracy: ' + str(round(accuracy_score(CD_y_test, Churn_y_pred)*100, 2)) + '%')"
   ]
  },
  {
   "cell_type": "code",
   "execution_count": 7,
   "metadata": {},
   "outputs": [
    {
     "name": "stdout",
     "output_type": "stream",
     "text": [
      "Confusion matrix: \n",
      " [[843 193]\n",
      " [184 189]]\n",
      "\n",
      "Classification report: \n",
      "               precision    recall  f1-score   support\n",
      "\n",
      "           0       0.82      0.81      0.82      1036\n",
      "           1       0.49      0.51      0.50       373\n",
      "\n",
      "    accuracy                           0.73      1409\n",
      "   macro avg       0.66      0.66      0.66      1409\n",
      "weighted avg       0.73      0.73      0.73      1409\n",
      "\n"
     ]
    }
   ],
   "source": [
    "print(\"Confusion matrix: \\n\", confusion_matrix(CD_y_test, Churn_y_pred))\n",
    "print(\"\\nClassification report: \\n\", classification_report(CD_y_test, Churn_y_pred))"
   ]
  }
 ],
 "metadata": {
  "kernelspec": {
   "display_name": ".venv",
   "language": "python",
   "name": "python3"
  },
  "language_info": {
   "codemirror_mode": {
    "name": "ipython",
    "version": 3
   },
   "file_extension": ".py",
   "mimetype": "text/x-python",
   "name": "python",
   "nbconvert_exporter": "python",
   "pygments_lexer": "ipython3",
   "version": "3.11.9"
  }
 },
 "nbformat": 4,
 "nbformat_minor": 2
}
