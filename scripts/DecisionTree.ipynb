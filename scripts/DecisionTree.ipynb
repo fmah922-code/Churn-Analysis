{
 "cells": [
  {
   "cell_type": "code",
   "execution_count": 63,
   "metadata": {},
   "outputs": [],
   "source": [
    "import os\n",
    "import warnings\n",
    "import pandas as pd\n",
    "from sklearn import preprocessing\n",
    "from sklearn.tree import DecisionTreeClassifier\n",
    "from sklearn.metrics import accuracy_score, confusion_matrix, classification_report\n",
    "from sklearn.model_selection import cross_val_score, train_test_split\n",
    "from matplotlib import pyplot as plt\n",
    "from sklearn import tree\n",
    "from scipy.stats import randint\n",
    "from sklearn.model_selection import RandomizedSearchCV"
   ]
  },
  {
   "cell_type": "code",
   "execution_count": 64,
   "metadata": {},
   "outputs": [],
   "source": [
    "destination =  os.environ.get('LR_Destination')\n",
    "ChurnData = pd.read_csv(str(destination + '/' + 'WA_Fn-UseC_-Telco-Customer-Churn.csv'))"
   ]
  },
  {
   "cell_type": "markdown",
   "metadata": {},
   "source": [
    "Although Decision Trees can train on complex non-linear relationships to determine the relationship between a feature and a  target variable, it can't understand categorical features that are expressed through strings like 'Yes' or 'No' / 'Female' or 'Male' so we must map to these to numerical values without necessarily needing to create indicator variables unlike with building a logistic regression model."
   ]
  },
  {
   "cell_type": "markdown",
   "metadata": {},
   "source": [
    "### Data Transformation"
   ]
  },
  {
   "cell_type": "code",
   "execution_count": 65,
   "metadata": {},
   "outputs": [],
   "source": [
    "#First drop off customerID column\n",
    "if 'customerID' in ChurnData.columns.values:\n",
    "     ChurnData = ChurnData.drop(['customerID'],axis=1)\n",
    "else:\n",
    "     1==1\n",
    "\n",
    "#Converting Total Charges to Float\n",
    "ChurnData['TotalCharges'] = pd.to_numeric(ChurnData['TotalCharges'], errors='coerce').fillna(pd.to_numeric(ChurnData['TotalCharges'], errors='coerce').mean())\n",
    "\n",
    "\n",
    "unique_values_dict = {}\n",
    "for cols in ChurnData.columns.values:\n",
    "    if ChurnData[cols].dtypes != 'int64' and ChurnData[cols].dtypes != 'float64':\n",
    "          unique_values_dict[cols] = ChurnData[cols].unique()"
   ]
  },
  {
   "cell_type": "code",
   "execution_count": 66,
   "metadata": {},
   "outputs": [],
   "source": [
    "for i in unique_values_dict:\n",
    "    remapped_values = {}\n",
    "    names_and_remapped_values = {}\n",
    "\n",
    "    #for i in range of length of values in key:values for gender\n",
    "    for iterator in range(len(unique_values_dict[i])):\n",
    "        remapped_values[unique_values_dict[i][iterator]] = iterator\n",
    "\n",
    "        names_and_remapped_values[i] = remapped_values \n",
    "\n",
    "    for key in names_and_remapped_values:\n",
    "        ChurnData[key] = ChurnData[key].map(names_and_remapped_values[key])"
   ]
  },
  {
   "cell_type": "markdown",
   "metadata": {},
   "source": [
    "### Hyperparameter Tuning (Helps us find optimal parameters for the ML Model, can be beneficial for potential overfitting)"
   ]
  },
  {
   "cell_type": "code",
   "execution_count": 67,
   "metadata": {},
   "outputs": [
    {
     "name": "stdout",
     "output_type": "stream",
     "text": [
      "Tuned Decision Tree Parameters: {'criterion': 'entropy', 'max_depth': 3, 'max_features': 6, 'min_samples_leaf': 4}\n",
      "Best score is 0.7743874604813213\n"
     ]
    }
   ],
   "source": [
    "from sklearn.datasets import make_classification\n",
    "\n",
    "# ChurnData = ChurnData.dropna()\n",
    "Churn_X = ChurnData.iloc[:, 0:19].to_numpy()\n",
    "Churn_y = ChurnData['Churn'].to_numpy()\n",
    " \n",
    "param_dist = {\n",
    "    \"max_depth\": [3, None],\n",
    "    \"max_features\": randint(1, 9),\n",
    "    \"min_samples_leaf\": randint(1, 9),\n",
    "    \"criterion\": [\"gini\", \"entropy\"]\n",
    "}\n",
    "\n",
    "model = DecisionTreeClassifier()\n",
    "model_cv = RandomizedSearchCV(model, param_dist, cv=5)\n",
    " \n",
    "model_cv.fit(Churn_X, Churn_y)\n",
    "\n",
    "print(\"Tuned Decision Tree Parameters: {}\".format(model_cv.best_params_))\n",
    "print(\"Best score is {}\".format(model_cv.best_score_))\n"
   ]
  },
  {
   "cell_type": "markdown",
   "metadata": {},
   "source": [
    "### Decision Tree Building"
   ]
  },
  {
   "cell_type": "code",
   "execution_count": 68,
   "metadata": {},
   "outputs": [
    {
     "name": "stdout",
     "output_type": "stream",
     "text": [
      "Accuracy: 78.42%\n"
     ]
    }
   ],
   "source": [
    "CD_X_train, CD_X_test, CD_y_train, CD_y_test = train_test_split(\n",
    "    Churn_X, Churn_y, test_size=0.2, random_state=42\n",
    ")\n",
    "\n",
    "model = DecisionTreeClassifier(criterion = 'gini', max_depth=None, max_features = 7, min_samples_leaf = 6).fit(CD_X_train, CD_y_train)\n",
    "\n",
    "Churn_y_pred = model.predict(CD_X_test)\n",
    "\n",
    "round(accuracy_score(CD_y_test, Churn_y_pred)*100, 2)\n",
    "\n",
    "print('Accuracy: ' + str(round(accuracy_score(CD_y_test, Churn_y_pred)*100, 2)) + '%')"
   ]
  },
  {
   "cell_type": "code",
   "execution_count": 69,
   "metadata": {},
   "outputs": [
    {
     "name": "stdout",
     "output_type": "stream",
     "text": [
      "Confusion matrix: \n",
      " [[934 102]\n",
      " [202 171]]\n",
      "\n",
      "Classification report: \n",
      "               precision    recall  f1-score   support\n",
      "\n",
      "           0       0.82      0.90      0.86      1036\n",
      "           1       0.63      0.46      0.53       373\n",
      "\n",
      "    accuracy                           0.78      1409\n",
      "   macro avg       0.72      0.68      0.69      1409\n",
      "weighted avg       0.77      0.78      0.77      1409\n",
      "\n"
     ]
    }
   ],
   "source": [
    "print(\"Confusion matrix: \\n\", confusion_matrix(CD_y_test, Churn_y_pred))\n",
    "print(\"\\nClassification report: \\n\", classification_report(CD_y_test, Churn_y_pred))"
   ]
  },
  {
   "cell_type": "code",
   "execution_count": null,
   "metadata": {},
   "outputs": [],
   "source": []
  }
 ],
 "metadata": {
  "kernelspec": {
   "display_name": ".venv",
   "language": "python",
   "name": "python3"
  },
  "language_info": {
   "codemirror_mode": {
    "name": "ipython",
    "version": 3
   },
   "file_extension": ".py",
   "mimetype": "text/x-python",
   "name": "python",
   "nbconvert_exporter": "python",
   "pygments_lexer": "ipython3",
   "version": "3.11.9"
  }
 },
 "nbformat": 4,
 "nbformat_minor": 2
}
