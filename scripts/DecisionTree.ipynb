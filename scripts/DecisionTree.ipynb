{
 "cells": [
  {
   "cell_type": "code",
   "execution_count": 193,
   "metadata": {},
   "outputs": [],
   "source": [
    "import os\n",
    "import warnings\n",
    "import pandas as pd\n",
    "from sklearn.model_selection import train_test_split"
   ]
  },
  {
   "cell_type": "code",
   "execution_count": 196,
   "metadata": {},
   "outputs": [
    {
     "ename": "TypeError",
     "evalue": "'tuple' object is not callable",
     "output_type": "error",
     "traceback": [
      "\u001b[1;31m---------------------------------------------------------------------------\u001b[0m",
      "\u001b[1;31mTypeError\u001b[0m                                 Traceback (most recent call last)",
      "Cell \u001b[1;32mIn[196], line 2\u001b[0m\n\u001b[0;32m      1\u001b[0m destination \u001b[38;5;241m=\u001b[39m  os\u001b[38;5;241m.\u001b[39menviron\u001b[38;5;241m.\u001b[39mget(\u001b[38;5;124m'\u001b[39m\u001b[38;5;124mLR_Destination\u001b[39m\u001b[38;5;124m'\u001b[39m)\n\u001b[1;32m----> 2\u001b[0m ChurnData \u001b[38;5;241m=\u001b[39m pd\u001b[38;5;241m.\u001b[39mread_csv(\u001b[38;5;28;43mstr\u001b[39;49m\u001b[43m(\u001b[49m\u001b[43mdestination\u001b[49m\u001b[43m \u001b[49m\u001b[38;5;241;43m+\u001b[39;49m\u001b[43m \u001b[49m\u001b[38;5;124;43m'\u001b[39;49m\u001b[38;5;124;43m/\u001b[39;49m\u001b[38;5;124;43m'\u001b[39;49m\u001b[43m \u001b[49m\u001b[38;5;241;43m+\u001b[39;49m\u001b[43m \u001b[49m\u001b[38;5;124;43m'\u001b[39;49m\u001b[38;5;124;43mWA_Fn-UseC_-Telco-Customer-Churn.csv\u001b[39;49m\u001b[38;5;124;43m'\u001b[39;49m\u001b[43m)\u001b[49m)\n",
      "\u001b[1;31mTypeError\u001b[0m: 'tuple' object is not callable"
     ]
    }
   ],
   "source": [
    "destination =  os.environ.get('LR_Destination')\n",
    "ChurnData = pd.read_csv(str(destination + '/' + 'WA_Fn-UseC_-Telco-Customer-Churn.csv'))"
   ]
  },
  {
   "cell_type": "markdown",
   "metadata": {},
   "source": [
    "#### Although Decision Trees can train on complex non-linear relationships to determine the relationship between a feature and a  target variable, it can't understand categorical features that are expressed through strings like 'Yes' or 'No' / 'Female' or 'Male' so we must map to these to numerical values without necessarily needing to create indicator variables unlike with building a logistic regression model"
   ]
  },
  {
   "cell_type": "code",
   "execution_count": null,
   "metadata": {},
   "outputs": [],
   "source": [
    "#First drop off customerID column\n",
    "if 'customerID' in ChurnData.columns.values:\n",
    "     ChurnData = ChurnData.drop(['customerID'],axis=1)\n",
    "else:\n",
    "     1==1\n",
    "\n",
    "#Converting Total Charges to Float\n",
    "ChurnData['TotalCharges'] = pd.to_numeric(ChurnData['TotalCharges'], errors='coerce').fillna(pd.to_numeric(ChurnData['TotalCharges'], errors='coerce').mean())\n",
    "\n",
    "\n",
    "unique_values_dict = {}\n",
    "for cols in ChurnData.columns.values:\n",
    "    if ChurnData[cols].dtypes != 'int64' and ChurnData[cols].dtypes != 'float64':\n",
    "          unique_values_dict[cols] = ChurnData[cols].unique()"
   ]
  },
  {
   "cell_type": "code",
   "execution_count": 183,
   "metadata": {},
   "outputs": [
    {
     "name": "stdout",
     "output_type": "stream",
     "text": [
      "'gender'\n",
      "'Partner'\n",
      "'Dependents'\n",
      "'PhoneService'\n",
      "'MultipleLines'\n",
      "'InternetService'\n",
      "'OnlineSecurity'\n",
      "'OnlineBackup'\n",
      "'DeviceProtection'\n",
      "'TechSupport'\n",
      "'StreamingTV'\n",
      "'StreamingMovies'\n",
      "'Contract'\n",
      "'PaperlessBilling'\n",
      "'PaymentMethod'\n",
      "'Churn'\n"
     ]
    }
   ],
   "source": [
    "for i in unique_values_dict:\n",
    "    remapped_values = {}\n",
    "    names_and_remapped_values = {}\n",
    "    #  print(i, unique_values_dict[i])\n",
    "\n",
    "    #for i in range of length of values in key:values for gender\n",
    "    for iterator in range(len(unique_values_dict[i])):\n",
    "        remapped_values[unique_values_dict[i][iterator]] = iterator\n",
    "\n",
    "        names_and_remapped_values[i] = remapped_values \n",
    "\n",
    "    for key in names_and_remapped_values:\n",
    "        col_name = '\\'' + key + '\\''\n",
    "        print(col_name)"
   ]
  },
  {
   "cell_type": "code",
   "execution_count": 188,
   "metadata": {},
   "outputs": [
    {
     "data": {
      "text/plain": [
       "0       0\n",
       "1       1\n",
       "2       1\n",
       "3       1\n",
       "4       0\n",
       "       ..\n",
       "7038    1\n",
       "7039    0\n",
       "7040    0\n",
       "7041    1\n",
       "7042    1\n",
       "Name: gender, Length: 7043, dtype: int64"
      ]
     },
     "execution_count": 188,
     "metadata": {},
     "output_type": "execute_result"
    }
   ],
   "source": [
    "ChurnData"
   ]
  },
  {
   "cell_type": "code",
   "execution_count": null,
   "metadata": {},
   "outputs": [],
   "source": []
  }
 ],
 "metadata": {
  "kernelspec": {
   "display_name": ".venv",
   "language": "python",
   "name": "python3"
  },
  "language_info": {
   "codemirror_mode": {
    "name": "ipython",
    "version": 3
   },
   "file_extension": ".py",
   "mimetype": "text/x-python",
   "name": "python",
   "nbconvert_exporter": "python",
   "pygments_lexer": "ipython3",
   "version": "3.11.9"
  }
 },
 "nbformat": 4,
 "nbformat_minor": 2
}
