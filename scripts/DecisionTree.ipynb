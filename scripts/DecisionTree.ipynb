{
 "cells": [
  {
   "cell_type": "code",
   "execution_count": 102,
   "metadata": {},
   "outputs": [],
   "source": [
    "import os\n",
    "import warnings\n",
    "import pandas as pd\n",
    "from sklearn import preprocessing\n",
    "from sklearn.tree import DecisionTreeClassifier\n",
    "from sklearn.metrics import accuracy_score, confusion_matrix, classification_report\n",
    "from sklearn.preprocessing import MinMaxScaler\n",
    "from sklearn.model_selection import cross_val_score, train_test_split\n",
    "from matplotlib import pyplot as plt\n",
    "from sklearn import tree"
   ]
  },
  {
   "cell_type": "code",
   "execution_count": 103,
   "metadata": {},
   "outputs": [],
   "source": [
    "destination =  os.environ.get('LR_Destination')\n",
    "ChurnData = pd.read_csv(str(destination + '/' + 'WA_Fn-UseC_-Telco-Customer-Churn.csv'))"
   ]
  },
  {
   "cell_type": "markdown",
   "metadata": {},
   "source": [
    "Although Decision Trees can train on complex non-linear relationships to determine the relationship between a feature and a  target variable, it can't understand categorical features that are expressed through strings like 'Yes' or 'No' / 'Female' or 'Male' so we must map to these to numerical values without necessarily needing to create indicator variables unlike with building a logistic regression model."
   ]
  },
  {
   "cell_type": "markdown",
   "metadata": {},
   "source": [
    "### Data Transformation"
   ]
  },
  {
   "cell_type": "code",
   "execution_count": 104,
   "metadata": {},
   "outputs": [],
   "source": [
    "#First drop off customerID column\n",
    "if 'customerID' in ChurnData.columns.values:\n",
    "     ChurnData = ChurnData.drop(['customerID'],axis=1)\n",
    "else:\n",
    "     1==1\n",
    "\n",
    "#Converting Total Charges to Float\n",
    "ChurnData['TotalCharges'] = pd.to_numeric(ChurnData['TotalCharges'], errors='coerce').fillna(pd.to_numeric(ChurnData['TotalCharges'], errors='coerce').mean())\n",
    "\n",
    "\n",
    "unique_values_dict = {}\n",
    "for cols in ChurnData.columns.values:\n",
    "    if ChurnData[cols].dtypes != 'int64' and ChurnData[cols].dtypes != 'float64':\n",
    "          unique_values_dict[cols] = ChurnData[cols].unique()"
   ]
  },
  {
   "cell_type": "code",
   "execution_count": 105,
   "metadata": {},
   "outputs": [],
   "source": [
    "for i in unique_values_dict:\n",
    "    remapped_values = {}\n",
    "    names_and_remapped_values = {}\n",
    "    #  print(i, unique_values_dict[i])\n",
    "\n",
    "    #for i in range of length of values in key:values for gender\n",
    "    for iterator in range(len(unique_values_dict[i])):\n",
    "        remapped_values[unique_values_dict[i][iterator]] = iterator\n",
    "\n",
    "        names_and_remapped_values[i] = remapped_values \n",
    "\n",
    "    for key in names_and_remapped_values:\n",
    "        ChurnData[key] = ChurnData[key].map(names_and_remapped_values[key])"
   ]
  },
  {
   "cell_type": "markdown",
   "metadata": {},
   "source": [
    "### Decision Tree Building"
   ]
  },
  {
   "cell_type": "code",
   "execution_count": 106,
   "metadata": {},
   "outputs": [],
   "source": [
    "Churn_X = ChurnData.iloc[:, 0:19]\n",
    "Churn_y = ChurnData['Churn']\n",
    "scaler = MinMaxScaler()\n",
    "model = DecisionTreeClassifier(max_depth=5)\n",
    "\n",
    "CD_X_train, CD_X_test, CD_y_train, CD_y_test = train_test_split(\n",
    "    Churn_X, Churn_y, test_size=0.2, random_state=42\n",
    ")\n",
    "\n",
    "#rescaling features so that no feature becomes overtrained for overrepresented features preventing a feature from dominating.\n",
    "CD_X_train = scaler.fit_transform(CD_X_train)\n",
    "CD_X_test = scaler.fit_transform(CD_X_test)\n",
    "\n",
    "model = model.fit(CD_X_train,CD_y_train)"
   ]
  },
  {
   "cell_type": "code",
   "execution_count": 107,
   "metadata": {},
   "outputs": [
    {
     "data": {
      "text/plain": [
       "0.7977288857345636"
      ]
     },
     "execution_count": 107,
     "metadata": {},
     "output_type": "execute_result"
    }
   ],
   "source": [
    "#Model makes predictions on testing subset of the data\n",
    "predictions = model.predict(CD_X_test)\n",
    "accuracy_score(CD_y_test, predictions)\n"
   ]
  },
  {
   "cell_type": "code",
   "execution_count": 108,
   "metadata": {},
   "outputs": [
    {
     "name": "stdout",
     "output_type": "stream",
     "text": [
      "Confusion matrix: \n",
      " [[888 148]\n",
      " [137 236]]\n",
      "\n",
      "Classification report: \n",
      "               precision    recall  f1-score   support\n",
      "\n",
      "           0       0.87      0.86      0.86      1036\n",
      "           1       0.61      0.63      0.62       373\n",
      "\n",
      "    accuracy                           0.80      1409\n",
      "   macro avg       0.74      0.74      0.74      1409\n",
      "weighted avg       0.80      0.80      0.80      1409\n",
      "\n"
     ]
    }
   ],
   "source": [
    "print(\"Confusion matrix: \\n\", confusion_matrix(CD_y_test, predictions))\n",
    "print(\"\\nClassification report: \\n\", classification_report(CD_y_test, predictions))"
   ]
  },
  {
   "cell_type": "code",
   "execution_count": null,
   "metadata": {},
   "outputs": [],
   "source": []
  }
 ],
 "metadata": {
  "kernelspec": {
   "display_name": ".venv",
   "language": "python",
   "name": "python3"
  },
  "language_info": {
   "codemirror_mode": {
    "name": "ipython",
    "version": 3
   },
   "file_extension": ".py",
   "mimetype": "text/x-python",
   "name": "python",
   "nbconvert_exporter": "python",
   "pygments_lexer": "ipython3",
   "version": "3.11.9"
  }
 },
 "nbformat": 4,
 "nbformat_minor": 2
}
