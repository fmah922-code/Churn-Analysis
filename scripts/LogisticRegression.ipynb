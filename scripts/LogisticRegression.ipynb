{
 "cells": [
  {
   "cell_type": "code",
   "execution_count": 11,
   "metadata": {},
   "outputs": [],
   "source": [
    "import requests\n",
    "import pandas as pd\n",
    "import kagglehub\n",
    "import os\n",
    "from statsmodels.stats.outliers_influence import variance_inflation_factor"
   ]
  },
  {
   "cell_type": "code",
   "execution_count": 12,
   "metadata": {},
   "outputs": [
    {
     "name": "stdout",
     "output_type": "stream",
     "text": [
      "Downloading from https://www.kaggle.com/api/v1/datasets/download/blastchar/telco-customer-churn?dataset_version_number=1&file_name=WA_Fn-UseC_-Telco-Customer-Churn.csv...\n"
     ]
    },
    {
     "name": "stderr",
     "output_type": "stream",
     "text": [
      "100%|██████████| 955k/955k [00:00<00:00, 1.57MB/s]\n"
     ]
    }
   ],
   "source": [
    "path = kagglehub.dataset_download(\"blastchar/telco-customer-churn\",path='WA_Fn-UseC_-Telco-Customer-Churn.csv')"
   ]
  },
  {
   "cell_type": "code",
   "execution_count": 13,
   "metadata": {},
   "outputs": [
    {
     "name": "stdout",
     "output_type": "stream",
     "text": [
      "File 'C:/Users/sarge/Documents/Projects/Covid Visualization/covid-dashboard-analytics/data/WA_Fn-UseC_-Telco-Customer-Churn.csv' not found.\n"
     ]
    }
   ],
   "source": [
    "destination = os.environ.get('LR_Destination')\n",
    "\n",
    "alr_exists = str(destination + '/' + 'WA_Fn-UseC_-Telco-Customer-Churn.csv')\n",
    "\n",
    "if os.path.exists(alr_exists):\n",
    "        os.remove(alr_exists)\n",
    "        print(f\"File '{alr_exists}' deleted sucessfully.\")\n",
    "else:\n",
    "        print(f\"File '{alr_exists}' not found.\")"
   ]
  },
  {
   "cell_type": "code",
   "execution_count": 14,
   "metadata": {},
   "outputs": [],
   "source": [
    "source = os.environ.get('LR_SOURCE')\n",
    "\n",
    "allfiles = os.listdir(source)\n",
    "\n",
    "for f in allfiles:\n",
    "        src_path = os.path.join(source, f)\n",
    "        dst_path = os.path.join(destination, f)\n",
    "        os.rename(src_path, dst_path)"
   ]
  },
  {
   "cell_type": "code",
   "execution_count": 15,
   "metadata": {},
   "outputs": [],
   "source": [
    "str(destination + '/' + 'WA_Fn-UseC_-Telco-Customer-Churn.csv')  \n",
    "ChurnData = pd.read_csv(str(destination + '/' + 'WA_Fn-UseC_-Telco-Customer-Churn.csv'))"
   ]
  },
  {
   "cell_type": "code",
   "execution_count": 16,
   "metadata": {},
   "outputs": [],
   "source": [
    "#Pre-Processing of Data, removing CustomerID, and Converting TotalCharges into a float.\n",
    "\n",
    "ChurnData.drop('customerID',axis=1,inplace=True)\n",
    "ChurnData['TotalCharges'] = pd.to_numeric(ChurnData['TotalCharges'], errors='coerce').fillna(pd.to_numeric(ChurnData['TotalCharges'], errors='coerce').mean())"
   ]
  },
  {
   "cell_type": "code",
   "execution_count": 17,
   "metadata": {},
   "outputs": [
    {
     "data": {
      "text/html": [
       "<div>\n",
       "<style scoped>\n",
       "    .dataframe tbody tr th:only-of-type {\n",
       "        vertical-align: middle;\n",
       "    }\n",
       "\n",
       "    .dataframe tbody tr th {\n",
       "        vertical-align: top;\n",
       "    }\n",
       "\n",
       "    .dataframe thead th {\n",
       "        text-align: right;\n",
       "    }\n",
       "</style>\n",
       "<table border=\"1\" class=\"dataframe\">\n",
       "  <thead>\n",
       "    <tr style=\"text-align: right;\">\n",
       "      <th></th>\n",
       "      <th>InternetService_DSL</th>\n",
       "      <th>InternetService_Fiber optic</th>\n",
       "      <th>InternetService_No</th>\n",
       "    </tr>\n",
       "  </thead>\n",
       "  <tbody>\n",
       "    <tr>\n",
       "      <th>0</th>\n",
       "      <td>True</td>\n",
       "      <td>False</td>\n",
       "      <td>False</td>\n",
       "    </tr>\n",
       "    <tr>\n",
       "      <th>1</th>\n",
       "      <td>True</td>\n",
       "      <td>False</td>\n",
       "      <td>False</td>\n",
       "    </tr>\n",
       "    <tr>\n",
       "      <th>2</th>\n",
       "      <td>True</td>\n",
       "      <td>False</td>\n",
       "      <td>False</td>\n",
       "    </tr>\n",
       "    <tr>\n",
       "      <th>3</th>\n",
       "      <td>True</td>\n",
       "      <td>False</td>\n",
       "      <td>False</td>\n",
       "    </tr>\n",
       "    <tr>\n",
       "      <th>4</th>\n",
       "      <td>False</td>\n",
       "      <td>True</td>\n",
       "      <td>False</td>\n",
       "    </tr>\n",
       "    <tr>\n",
       "      <th>...</th>\n",
       "      <td>...</td>\n",
       "      <td>...</td>\n",
       "      <td>...</td>\n",
       "    </tr>\n",
       "    <tr>\n",
       "      <th>7038</th>\n",
       "      <td>True</td>\n",
       "      <td>False</td>\n",
       "      <td>False</td>\n",
       "    </tr>\n",
       "    <tr>\n",
       "      <th>7039</th>\n",
       "      <td>False</td>\n",
       "      <td>True</td>\n",
       "      <td>False</td>\n",
       "    </tr>\n",
       "    <tr>\n",
       "      <th>7040</th>\n",
       "      <td>True</td>\n",
       "      <td>False</td>\n",
       "      <td>False</td>\n",
       "    </tr>\n",
       "    <tr>\n",
       "      <th>7041</th>\n",
       "      <td>False</td>\n",
       "      <td>True</td>\n",
       "      <td>False</td>\n",
       "    </tr>\n",
       "    <tr>\n",
       "      <th>7042</th>\n",
       "      <td>False</td>\n",
       "      <td>True</td>\n",
       "      <td>False</td>\n",
       "    </tr>\n",
       "  </tbody>\n",
       "</table>\n",
       "<p>7043 rows × 3 columns</p>\n",
       "</div>"
      ],
      "text/plain": [
       "      InternetService_DSL  InternetService_Fiber optic  InternetService_No\n",
       "0                    True                        False               False\n",
       "1                    True                        False               False\n",
       "2                    True                        False               False\n",
       "3                    True                        False               False\n",
       "4                   False                         True               False\n",
       "...                   ...                          ...                 ...\n",
       "7038                 True                        False               False\n",
       "7039                False                         True               False\n",
       "7040                 True                        False               False\n",
       "7041                False                         True               False\n",
       "7042                False                         True               False\n",
       "\n",
       "[7043 rows x 3 columns]"
      ]
     },
     "execution_count": 17,
     "metadata": {},
     "output_type": "execute_result"
    }
   ],
   "source": [
    "# most likely the columns that are categorical -> not numerical (Creating function to dynamically assign integer values to categorical information)\n",
    "# Some data is multicollinear, meaning that there is redundant information.\n",
    "\n",
    "\n",
    "for column in ChurnData:\n",
    "    if(ChurnData[column].dtype == 'object' and len(ChurnData[column].unique()) > 2):\n",
    "            ChurnData = pd.get_dummies(ChurnData, columns=[str(column)])\n",
    "\n",
    "ChurnData[['InternetService_DSL', 'InternetService_Fiber optic', 'InternetService_No']]\n"
   ]
  },
  {
   "cell_type": "code",
   "execution_count": null,
   "metadata": {},
   "outputs": [],
   "source": []
  }
 ],
 "metadata": {
  "kernelspec": {
   "display_name": "VirtualEnv",
   "language": "python",
   "name": "python3"
  },
  "language_info": {
   "codemirror_mode": {
    "name": "ipython",
    "version": 3
   },
   "file_extension": ".py",
   "mimetype": "text/x-python",
   "name": "python",
   "nbconvert_exporter": "python",
   "pygments_lexer": "ipython3",
   "version": "3.11.9"
  }
 },
 "nbformat": 4,
 "nbformat_minor": 2
}
