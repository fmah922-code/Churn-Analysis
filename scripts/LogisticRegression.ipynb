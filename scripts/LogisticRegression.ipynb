{
 "cells": [
  {
   "cell_type": "markdown",
   "metadata": {},
   "source": [
    "# Logistic Regression for Telco Churn Analysis"
   ]
  },
  {
   "cell_type": "markdown",
   "metadata": {},
   "source": [
    "#### Utilizing data retrieved from a Kaggle dataset to build a logistic regression model aimed at predicting customer churn rates. Also included is a statistical analysis to identify the most signifcant feautres and their correlation to churn rates"
   ]
  },
  {
   "cell_type": "code",
   "execution_count": 428,
   "metadata": {},
   "outputs": [
    {
     "data": {
      "text/plain": [
       "''"
      ]
     },
     "execution_count": 428,
     "metadata": {},
     "output_type": "execute_result"
    }
   ],
   "source": [
    "import requests\n",
    "import pandas as pd\n",
    "import numpy as np\n",
    "import kagglehub\n",
    "import os\n",
    "from statsmodels.stats.outliers_influence import variance_inflation_factor\n",
    "from sklearn.linear_model import LogisticRegression\n",
    "from sklearn.model_selection import train_test_split\n",
    "from sklearn.metrics import classification_report, confusion_matrix, accuracy_score, roc_curve, auc\n",
    "from sklearn.preprocessing import MinMaxScaler\n",
    "import matplotlib.pyplot as plt\n",
    "import statsmodels.api as sm\n",
    "import seaborn as sns\n",
    "import warnings\n",
    "warnings.filterwarnings(\"ignore\")\n",
    "from scipy import stats\n",
    ";"
   ]
  },
  {
   "cell_type": "markdown",
   "metadata": {},
   "source": [
    "## Data Acquisition"
   ]
  },
  {
   "cell_type": "code",
   "execution_count": 429,
   "metadata": {},
   "outputs": [
    {
     "name": "stdout",
     "output_type": "stream",
     "text": [
      "Warning: Looks like you're using an outdated `kagglehub` version (installed: 0.3.7), please consider upgrading to the latest version (0.3.8).\n",
      "Downloading from https://www.kaggle.com/api/v1/datasets/download/blastchar/telco-customer-churn?dataset_version_number=1&file_name=WA_Fn-UseC_-Telco-Customer-Churn.csv...\n"
     ]
    },
    {
     "name": "stderr",
     "output_type": "stream",
     "text": [
      "100%|██████████| 955k/955k [00:00<00:00, 1.77MB/s]\n"
     ]
    }
   ],
   "source": [
    "path = kagglehub.dataset_download(\"blastchar/telco-customer-churn\",path='WA_Fn-UseC_-Telco-Customer-Churn.csv')"
   ]
  },
  {
   "cell_type": "code",
   "execution_count": 430,
   "metadata": {},
   "outputs": [
    {
     "name": "stdout",
     "output_type": "stream",
     "text": [
      "File deleted sucessfully.\n"
     ]
    }
   ],
   "source": [
    "destination = os.environ.get('LR_Destination')\n",
    "\n",
    "alr_exists = str(destination + '/' + 'WA_Fn-UseC_-Telco-Customer-Churn.csv')\n",
    "\n",
    "if os.path.exists(alr_exists):\n",
    "        os.remove(alr_exists)\n",
    "        print(f\"File deleted sucessfully.\")\n",
    "else:\n",
    "        print(f\"File not found.\")"
   ]
  },
  {
   "cell_type": "code",
   "execution_count": 431,
   "metadata": {},
   "outputs": [],
   "source": [
    "source = os.environ.get('LR_SOURCE')\n",
    "\n",
    "allfiles = os.listdir(source)\n",
    "\n",
    "for f in allfiles:\n",
    "        src_path = os.path.join(source, f)\n",
    "        dst_path = os.path.join(destination, f)\n",
    "        os.rename(src_path, dst_path)"
   ]
  },
  {
   "cell_type": "code",
   "execution_count": 432,
   "metadata": {},
   "outputs": [],
   "source": [
    "str(destination + '/' + 'WA_Fn-UseC_-Telco-Customer-Churn.csv')  \n",
    "ChurnData = pd.read_csv(str(destination + '/' + 'WA_Fn-UseC_-Telco-Customer-Churn.csv'))"
   ]
  },
  {
   "cell_type": "markdown",
   "metadata": {},
   "source": [
    "## Data Proccessing"
   ]
  },
  {
   "cell_type": "code",
   "execution_count": 433,
   "metadata": {},
   "outputs": [],
   "source": [
    "#Pre-Processing of Data, removing CustomerID, and Converting TotalCharges into a float.\n",
    "ChurnData.drop('customerID',axis=1,inplace=True)\n",
    "ChurnData['TotalCharges'] = pd.to_numeric(ChurnData['TotalCharges'], errors='coerce').fillna(pd.to_numeric(ChurnData['TotalCharges'], errors='coerce').mean())"
   ]
  },
  {
   "cell_type": "code",
   "execution_count": 434,
   "metadata": {},
   "outputs": [],
   "source": [
    "# most likely the columns that are categorical -> not numerical (Creating function to dynamically assign integer values to categorical information)\n",
    "# Some data is multicollinear, meaning that there is redundant information.\n",
    "for column in ChurnData:\n",
    "    if(ChurnData[column].dtype == 'object' and len(ChurnData[column].unique()) > 2):\n",
    "            ChurnData = pd.get_dummies(ChurnData, columns=[str(column)], drop_first=True)\n",
    "\n",
    "#Convert booleans created from pd.get_dummies and map them dynamically into 0s and 1s\n",
    "for column in ChurnData:\n",
    "      if(ChurnData[column].dtypes == bool):\n",
    "            ChurnData[column] = ChurnData[column].astype(int)"
   ]
  },
  {
   "cell_type": "code",
   "execution_count": 435,
   "metadata": {},
   "outputs": [],
   "source": [
    "#Retrieving columns that were generated by pandas dummy variables and calculating VIF for detecting colinearity\n",
    "data = ChurnData.loc[:, ChurnData.columns.str.contains(\"_\")]\n",
    "\n",
    "vif_df = pd.DataFrame()\n",
    "vif_df[\"feature\"] = data.columns\n",
    "vif_df[\"VIF_Score\"] = [variance_inflation_factor(data.values, i) for i in range(len(data.columns))]\n",
    "\n",
    "#Retrieving scores that were greater than 10, indicates need to be dropped from original dataset\n",
    "vif_df = vif_df[vif_df[\"VIF_Score\"] > 10]['feature']"
   ]
  },
  {
   "cell_type": "code",
   "execution_count": 436,
   "metadata": {},
   "outputs": [],
   "source": [
    "cols = [col for col in ChurnData.columns if col not in vif_df.to_numpy()]\n",
    "ChurnData = ChurnData.loc[:, cols]"
   ]
  },
  {
   "cell_type": "code",
   "execution_count": 437,
   "metadata": {},
   "outputs": [],
   "source": [
    "#Mapping remaining yes/no columns to 0s and 1s dynamically\n",
    "yes_no_map = {'Yes' : 1, 'No' : 0}\n",
    "\n",
    "map_yes_no_columns = []\n",
    "for cols in ChurnData:\n",
    "    if 'Yes' in ChurnData[cols].unique() or 'No' in ChurnData[cols].unique():\n",
    "        map_yes_no_columns.append(ChurnData[cols].name)\n",
    "\n",
    "for row in ChurnData[map_yes_no_columns]:\n",
    "    ChurnData[row] = ChurnData[map_yes_no_columns][row].map(yes_no_map)\n",
    "\n",
    "ChurnData.rename(columns={'gender' : 'Male'}, inplace=True)"
   ]
  },
  {
   "cell_type": "code",
   "execution_count": 438,
   "metadata": {},
   "outputs": [],
   "source": [
    "gender_map = {'Male': 1, 'Female': 0}\n",
    "\n",
    "ChurnData['Male'] = ChurnData[\"Male\"].map(gender_map)"
   ]
  },
  {
   "cell_type": "markdown",
   "metadata": {},
   "source": [
    "## Logistic Regression Model Building"
   ]
  },
  {
   "cell_type": "code",
   "execution_count": 440,
   "metadata": {},
   "outputs": [],
   "source": [
    "ChurnData_X, ChurnData_y = ChurnData.loc[:,ChurnData.columns != 'Churn'], ChurnData['Churn']\n",
    "\n",
    "# rus = RandomUnderSampler(sampling_strategy=\"not minority\")\n",
    "# ChurnData_X, ChurnData_y = rus.fit_resample(ChurnData_X,ChurnData_y)\n",
    "\n",
    "CD_X_train, CD_X_test, CD_y_train, CD_y_test = train_test_split(\n",
    "    ChurnData_X, ChurnData_y, test_size=0.2, random_state=42\n",
    ")\n",
    "\n",
    "scaler = MinMaxScaler()\n",
    "\n",
    "CD_X_train = scaler.fit_transform(CD_X_train)\n",
    "CD_X_test = scaler.fit_transform(CD_X_test)\n",
    "\n",
    "ChurnModel = LogisticRegression()\n",
    "ChurnModel.fit(CD_X_train, CD_y_train);"
   ]
  },
  {
   "cell_type": "markdown",
   "metadata": {},
   "source": [
    "## Metrics"
   ]
  },
  {
   "cell_type": "code",
   "execution_count": 441,
   "metadata": {},
   "outputs": [
    {
     "name": "stdout",
     "output_type": "stream",
     "text": [
      "Training Accuracy: 79.98%\n",
      "Testing Accuracy: 82.33%\n"
     ]
    }
   ],
   "source": [
    "train_accuracy = accuracy_score(CD_y_train, ChurnModel.predict(CD_X_train))\n",
    "test_accuracy = accuracy_score(CD_y_test, ChurnModel.predict(CD_X_test))\n",
    "\n",
    "print(\"Training Accuracy: {:.2f}%\".format(train_accuracy * 100))\n",
    "print(\"Testing Accuracy: {:.2f}%\".format(test_accuracy * 100))"
   ]
  },
  {
   "cell_type": "code",
   "execution_count": 442,
   "metadata": {},
   "outputs": [
    {
     "name": "stdout",
     "output_type": "stream",
     "text": [
      "Accuracy: 82.33%\n"
     ]
    }
   ],
   "source": [
    "churn_pred = ChurnModel.predict(CD_X_test)\n",
    "accuracy = accuracy_score(CD_y_test, churn_pred)\n",
    "\n",
    "print(\"Accuracy: {:.2f}%\".format(accuracy * 100))"
   ]
  },
  {
   "cell_type": "code",
   "execution_count": 443,
   "metadata": {},
   "outputs": [
    {
     "name": "stdout",
     "output_type": "stream",
     "text": [
      "Confusion matrix: \n",
      " [[939  97]\n",
      " [152 221]]\n",
      "\n",
      "Classification report: \n",
      "               precision    recall  f1-score   support\n",
      "\n",
      "           0       0.86      0.91      0.88      1036\n",
      "           1       0.69      0.59      0.64       373\n",
      "\n",
      "    accuracy                           0.82      1409\n",
      "   macro avg       0.78      0.75      0.76      1409\n",
      "weighted avg       0.82      0.82      0.82      1409\n",
      "\n"
     ]
    }
   ],
   "source": [
    "# Classification Report - Metrics related to the Logistic Regression\n",
    "# Precision: How often model correctly predicts a positive outcome \n",
    "# Recall: How well model finds all positive instances in dataset\n",
    "# F1-Score: combines precision and recall into a single score.\n",
    "\n",
    "print(\"Confusion matrix: \\n\", confusion_matrix(CD_y_test, churn_pred))\n",
    "print(\"\\nClassification report: \\n\", classification_report(CD_y_test, churn_pred))"
   ]
  },
  {
   "cell_type": "code",
   "execution_count": 444,
   "metadata": {},
   "outputs": [
    {
     "data": {
      "image/png": "[encoded data removed]",
      "text/plain": [
       "<Figure size 800x600 with 1 Axes>"
      ]
     },
     "metadata": {},
     "output_type": "display_data"
    }
   ],
   "source": [
    "#AUC-ROC curve plots True Positive Rate against False Positive Rate at different thresholds showing how well a model can distinguish between customers that stay vs leave.\n",
    "#TPR = p(True Positives are found)\n",
    "#FPR = p(False Positives are found)\n",
    "\n",
    "\n",
    "y_prob = ChurnModel.predict_proba(CD_X_test)[:, 1]\n",
    "fpr, tpr, thresholds = roc_curve(CD_y_test, y_prob)\n",
    "roc_auc = auc(fpr, tpr)\n",
    " \n",
    "plt.figure(figsize=(8, 6))\n",
    "plt.plot(fpr, tpr, color='darkorange', lw=2,\n",
    "         label=f'ROC Curve (AUC = {roc_auc:.2f})')\n",
    "plt.plot([0, 1], [0, 1], color='navy', lw=2, linestyle='--', label='Random')\n",
    "plt.xlabel('False Positive Rate')\n",
    "plt.ylabel('True Positive Rate')\n",
    "plt.title('Receiver Operating Characteristic (ROC) Curve\\nAccuracy: {:.2f}%'.format(\n",
    "    accuracy * 100))\n",
    "plt.legend(loc=\"lower right\")\n",
    "plt.show()"
   ]
  },
  {
   "cell_type": "markdown",
   "metadata": {},
   "source": [
    "## Statistical Analysis"
   ]
  },
  {
   "cell_type": "code",
   "execution_count": 445,
   "metadata": {},
   "outputs": [
    {
     "name": "stdout",
     "output_type": "stream",
     "text": [
      "Optimization terminated successfully.\n",
      "         Current function value: 0.414247\n",
      "         Iterations 8\n"
     ]
    }
   ],
   "source": [
    "#statsmodels.api has a package [logit] that provides a summary on the independent and dependent variables\n",
    "\n",
    "sm.Logit(ChurnData_y, ChurnData_X)\n",
    "mcs = sm.Logit(ChurnData_y, ChurnData_X).fit().summary()\n",
    "\n",
    "relevant_metrics = pd.DataFrame()\n",
    "model_coefficients = pd.DataFrame()\n",
    "\n",
    "for i in range(2):\n",
    "    if i == 0:\n",
    "        relevant_metrics = pd.read_html(mcs.tables[0].as_html())\n",
    "    else:\n",
    "        model_coefficients = pd.read_html(mcs.tables[1].as_html())\n",
    "\n",
    "mc_map = {0: 'ColumnName', 1: 'Coef', 2: 'Std. Err', 3: 'z', 4: 'P>|z|', 5: '[0.025', 6: '0.975]'}\n",
    "\n",
    "model_coefficients[0].rename(mc_map,axis=1,inplace=True)\n",
    "model_coefficients = model_coefficients[0].loc[1:];\n",
    "\n",
    "relevant_metrics = relevant_metrics[0];"
   ]
  },
  {
   "cell_type": "code",
   "execution_count": 446,
   "metadata": {},
   "outputs": [
    {
     "data": {
      "text/html": [
       "<div>\n",
       "<style scoped>\n",
       "    .dataframe tbody tr th:only-of-type {\n",
       "        vertical-align: middle;\n",
       "    }\n",
       "\n",
       "    .dataframe tbody tr th {\n",
       "        vertical-align: top;\n",
       "    }\n",
       "\n",
       "    .dataframe thead th {\n",
       "        text-align: right;\n",
       "    }\n",
       "</style>\n",
       "<table border=\"1\" class=\"dataframe\">\n",
       "  <thead>\n",
       "    <tr style=\"text-align: right;\">\n",
       "      <th></th>\n",
       "      <th></th>\n",
       "      <th></th>\n",
       "    </tr>\n",
       "  </thead>\n",
       "  <tbody>\n",
       "    <tr>\n",
       "      <th>0</th>\n",
       "      <td>Dep. Variable:</td>\n",
       "      <td>Churn</td>\n",
       "    </tr>\n",
       "    <tr>\n",
       "      <th>1</th>\n",
       "      <td>Model:</td>\n",
       "      <td>Logit</td>\n",
       "    </tr>\n",
       "    <tr>\n",
       "      <th>2</th>\n",
       "      <td>Method:</td>\n",
       "      <td>MLE</td>\n",
       "    </tr>\n",
       "    <tr>\n",
       "      <th>3</th>\n",
       "      <td>Date:</td>\n",
       "      <td>Sat, 22 Feb 2025</td>\n",
       "    </tr>\n",
       "    <tr>\n",
       "      <th>4</th>\n",
       "      <td>Time:</td>\n",
       "      <td>21:12:00</td>\n",
       "    </tr>\n",
       "    <tr>\n",
       "      <th>5</th>\n",
       "      <td>converged:</td>\n",
       "      <td>True</td>\n",
       "    </tr>\n",
       "    <tr>\n",
       "      <th>6</th>\n",
       "      <td>Covariance Type:</td>\n",
       "      <td>nonrobust</td>\n",
       "    </tr>\n",
       "  </tbody>\n",
       "</table>\n",
       "</div>"
      ],
      "text/plain": [
       "                                     \n",
       "0    Dep. Variable:             Churn\n",
       "1            Model:             Logit\n",
       "2           Method:               MLE\n",
       "3             Date:  Sat, 22 Feb 2025\n",
       "4             Time:          21:12:00\n",
       "5        converged:              True\n",
       "6  Covariance Type:         nonrobust"
      ]
     },
     "execution_count": 446,
     "metadata": {},
     "output_type": "execute_result"
    }
   ],
   "source": [
    "rename_nothing = {0: '', 1: ''}\n",
    "\n",
    "other_info = relevant_metrics.iloc[:,[0,1]].rename(columns = rename_nothing)\n",
    "other_info"
   ]
  },
  {
   "cell_type": "code",
   "execution_count": 447,
   "metadata": {},
   "outputs": [
    {
     "data": {
      "text/html": [
       "<div>\n",
       "<style scoped>\n",
       "    .dataframe tbody tr th:only-of-type {\n",
       "        vertical-align: middle;\n",
       "    }\n",
       "\n",
       "    .dataframe tbody tr th {\n",
       "        vertical-align: top;\n",
       "    }\n",
       "\n",
       "    .dataframe thead th {\n",
       "        text-align: right;\n",
       "    }\n",
       "</style>\n",
       "<table border=\"1\" class=\"dataframe\">\n",
       "  <thead>\n",
       "    <tr style=\"text-align: right;\">\n",
       "      <th></th>\n",
       "      <th>ColumnName</th>\n",
       "      <th>Coef</th>\n",
       "      <th>Std. Err</th>\n",
       "      <th>z</th>\n",
       "      <th>P&gt;|z|</th>\n",
       "      <th>[0.025</th>\n",
       "      <th>0.975]</th>\n",
       "    </tr>\n",
       "  </thead>\n",
       "  <tbody>\n",
       "    <tr>\n",
       "      <th>7</th>\n",
       "      <td>PaperlessBilling</td>\n",
       "      <td>0.3479</td>\n",
       "      <td>0.074</td>\n",
       "      <td>4.677</td>\n",
       "      <td>0.000</td>\n",
       "      <td>0.202</td>\n",
       "      <td>0.494</td>\n",
       "    </tr>\n",
       "    <tr>\n",
       "      <th>22</th>\n",
       "      <td>PaymentMethod_Electronic check</td>\n",
       "      <td>0.3078</td>\n",
       "      <td>0.094</td>\n",
       "      <td>3.258</td>\n",
       "      <td>0.001</td>\n",
       "      <td>0.123</td>\n",
       "      <td>0.493</td>\n",
       "    </tr>\n",
       "    <tr>\n",
       "      <th>2</th>\n",
       "      <td>SeniorCitizen</td>\n",
       "      <td>0.2132</td>\n",
       "      <td>0.085</td>\n",
       "      <td>2.522</td>\n",
       "      <td>0.012</td>\n",
       "      <td>0.047</td>\n",
       "      <td>0.379</td>\n",
       "    </tr>\n",
       "    <tr>\n",
       "      <th>8</th>\n",
       "      <td>MonthlyCharges</td>\n",
       "      <td>0.0291</td>\n",
       "      <td>0.005</td>\n",
       "      <td>5.383</td>\n",
       "      <td>0.000</td>\n",
       "      <td>0.018</td>\n",
       "      <td>0.040</td>\n",
       "    </tr>\n",
       "    <tr>\n",
       "      <th>9</th>\n",
       "      <td>TotalCharges</td>\n",
       "      <td>0.0003</td>\n",
       "      <td>6.86e-05</td>\n",
       "      <td>4.370</td>\n",
       "      <td>0.000</td>\n",
       "      <td>0.000</td>\n",
       "      <td>0.000</td>\n",
       "    </tr>\n",
       "    <tr>\n",
       "      <th>6</th>\n",
       "      <td>PhoneService</td>\n",
       "      <td>-1.8277</td>\n",
       "      <td>0.231</td>\n",
       "      <td>-7.898</td>\n",
       "      <td>0.000</td>\n",
       "      <td>-2.281</td>\n",
       "      <td>-1.374</td>\n",
       "    </tr>\n",
       "    <tr>\n",
       "      <th>20</th>\n",
       "      <td>Contract_Two year</td>\n",
       "      <td>-1.4024</td>\n",
       "      <td>0.176</td>\n",
       "      <td>-7.979</td>\n",
       "      <td>0.000</td>\n",
       "      <td>-1.747</td>\n",
       "      <td>-1.058</td>\n",
       "    </tr>\n",
       "    <tr>\n",
       "      <th>19</th>\n",
       "      <td>Contract_One year</td>\n",
       "      <td>-0.6755</td>\n",
       "      <td>0.107</td>\n",
       "      <td>-6.293</td>\n",
       "      <td>0.000</td>\n",
       "      <td>-0.886</td>\n",
       "      <td>-0.465</td>\n",
       "    </tr>\n",
       "    <tr>\n",
       "      <th>10</th>\n",
       "      <td>MultipleLines_No phone service</td>\n",
       "      <td>-0.6094</td>\n",
       "      <td>0.209</td>\n",
       "      <td>-2.920</td>\n",
       "      <td>0.004</td>\n",
       "      <td>-1.018</td>\n",
       "      <td>-0.200</td>\n",
       "    </tr>\n",
       "    <tr>\n",
       "      <th>13</th>\n",
       "      <td>OnlineSecurity_Yes</td>\n",
       "      <td>-0.5431</td>\n",
       "      <td>0.094</td>\n",
       "      <td>-5.801</td>\n",
       "      <td>0.000</td>\n",
       "      <td>-0.727</td>\n",
       "      <td>-0.360</td>\n",
       "    </tr>\n",
       "    <tr>\n",
       "      <th>16</th>\n",
       "      <td>TechSupport_Yes</td>\n",
       "      <td>-0.5201</td>\n",
       "      <td>0.094</td>\n",
       "      <td>-5.525</td>\n",
       "      <td>0.000</td>\n",
       "      <td>-0.705</td>\n",
       "      <td>-0.336</td>\n",
       "    </tr>\n",
       "    <tr>\n",
       "      <th>14</th>\n",
       "      <td>OnlineBackup_Yes</td>\n",
       "      <td>-0.3136</td>\n",
       "      <td>0.085</td>\n",
       "      <td>-3.692</td>\n",
       "      <td>0.000</td>\n",
       "      <td>-0.480</td>\n",
       "      <td>-0.147</td>\n",
       "    </tr>\n",
       "    <tr>\n",
       "      <th>15</th>\n",
       "      <td>DeviceProtection_Yes</td>\n",
       "      <td>-0.1930</td>\n",
       "      <td>0.086</td>\n",
       "      <td>-2.239</td>\n",
       "      <td>0.025</td>\n",
       "      <td>-0.362</td>\n",
       "      <td>-0.024</td>\n",
       "    </tr>\n",
       "    <tr>\n",
       "      <th>5</th>\n",
       "      <td>tenure</td>\n",
       "      <td>-0.0579</td>\n",
       "      <td>0.006</td>\n",
       "      <td>-9.630</td>\n",
       "      <td>0.000</td>\n",
       "      <td>-0.070</td>\n",
       "      <td>-0.046</td>\n",
       "    </tr>\n",
       "  </tbody>\n",
       "</table>\n",
       "</div>"
      ],
      "text/plain": [
       "                        ColumnName     Coef  Std. Err       z  P>|z|  [0.025  \\\n",
       "7                 PaperlessBilling   0.3479     0.074   4.677  0.000   0.202   \n",
       "22  PaymentMethod_Electronic check   0.3078     0.094   3.258  0.001   0.123   \n",
       "2                    SeniorCitizen   0.2132     0.085   2.522  0.012   0.047   \n",
       "8                   MonthlyCharges   0.0291     0.005   5.383  0.000   0.018   \n",
       "9                     TotalCharges   0.0003  6.86e-05   4.370  0.000   0.000   \n",
       "6                     PhoneService  -1.8277     0.231  -7.898  0.000  -2.281   \n",
       "20               Contract_Two year  -1.4024     0.176  -7.979  0.000  -1.747   \n",
       "19               Contract_One year  -0.6755     0.107  -6.293  0.000  -0.886   \n",
       "10  MultipleLines_No phone service  -0.6094     0.209  -2.920  0.004  -1.018   \n",
       "13              OnlineSecurity_Yes  -0.5431     0.094  -5.801  0.000  -0.727   \n",
       "16                 TechSupport_Yes  -0.5201     0.094  -5.525  0.000  -0.705   \n",
       "14                OnlineBackup_Yes  -0.3136     0.085  -3.692  0.000  -0.480   \n",
       "15            DeviceProtection_Yes  -0.1930     0.086  -2.239  0.025  -0.362   \n",
       "5                           tenure  -0.0579     0.006  -9.630  0.000  -0.070   \n",
       "\n",
       "    0.975]  \n",
       "7    0.494  \n",
       "22   0.493  \n",
       "2    0.379  \n",
       "8    0.040  \n",
       "9    0.000  \n",
       "6   -1.374  \n",
       "20  -1.058  \n",
       "19  -0.465  \n",
       "10  -0.200  \n",
       "13  -0.360  \n",
       "16  -0.336  \n",
       "14  -0.147  \n",
       "15  -0.024  \n",
       "5   -0.046  "
      ]
     },
     "execution_count": 447,
     "metadata": {},
     "output_type": "execute_result"
    }
   ],
   "source": [
    "# Statistically Significant Figures p < .05 indicates that we would obtaining the observed data assuming no relationship is les than 5%, meaning that the observed effect isn't random, but infers statistical significant relationship\n",
    "# between feature and dependent variable [Churn]\n",
    "\n",
    "# Paperless Billing -> Significant chance of Churn if customer has paperless billing, or by electronic check\n",
    "# Senior Citizen -> Older people are more likely to leave Telco\n",
    "\n",
    "model_coefficients.loc[model_coefficients['P>|z|'].astype(float) < .05].sort_values(by='Coef',ascending=False)"
   ]
  }
 ],
 "metadata": {
  "kernelspec": {
   "display_name": ".venv",
   "language": "python",
   "name": "python3"
  },
  "language_info": {
   "codemirror_mode": {
    "name": "ipython",
    "version": 3
   },
   "file_extension": ".py",
   "mimetype": "text/x-python",
   "name": "python",
   "nbconvert_exporter": "python",
   "pygments_lexer": "ipython3",
   "version": "3.11.9"
  }
 },
 "nbformat": 4,
 "nbformat_minor": 2
}
