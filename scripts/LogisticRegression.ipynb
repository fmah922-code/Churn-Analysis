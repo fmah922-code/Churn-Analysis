{
<<<<<<< HEAD
 "cells": [
  {
   "cell_type": "markdown",
   "metadata": {},
   "source": [
    "# Logistic Regression for Telco Churn Analysis"
   ]
  },
  {
   "cell_type": "markdown",
   "metadata": {},
   "source": [
    "#### Utilizing data retrieved from a Kaggle dataset to build a logistic regression model aimed at predicting customer churn rates.  \n",
    "\n",
    "Also included is a statistical analysis to identify the most significant features and their correlation to churn rates.  "
   ]
  },
  {
   "cell_type": "code",
   "execution_count": 2,
   "metadata": {},
   "outputs": [
    {
     "name": "stderr",
     "output_type": "stream",
     "text": [
      "c:\\Users\\sarge\\Documents\\Projects\\Churn-Analysis\\.venv\\Lib\\site-packages\\tqdm\\auto.py:21: TqdmWarning: IProgress not found. Please update jupyter and ipywidgets. See https://ipywidgets.readthedocs.io/en/stable/user_install.html\n",
      "  from .autonotebook import tqdm as notebook_tqdm\n"
     ]
    },
    {
     "data": {
      "text/plain": [
       "''"
      ]
     },
     "execution_count": 2,
     "metadata": {},
     "output_type": "execute_result"
    }
   ],
   "source": [
    "import requests\n",
    "import pandas as pd\n",
    "import numpy as np\n",
    "import kagglehub\n",
    "import os\n",
    "from statsmodels.stats.outliers_influence import variance_inflation_factor\n",
    "from sklearn.linear_model import LogisticRegression\n",
    "from sklearn.model_selection import train_test_split\n",
    "from sklearn.metrics import classification_report, confusion_matrix, accuracy_score, roc_curve, auc\n",
    "from sklearn.preprocessing import MinMaxScaler\n",
    "import matplotlib.pyplot as plt\n",
    "import statsmodels.api as sm\n",
    "import seaborn as sns\n",
    "import warnings\n",
    "from scipy import stats\n",
    "from scipy.stats import randint\n",
    "from sklearn.model_selection import RandomizedSearchCV, GridSearchCV\n",
    "# from sklearn.datasets import make_classification\n",
    "import statistics\n",
    "\n",
    "warnings.filterwarnings(\"ignore\")\n",
    ";"
   ]
  },
  {
   "cell_type": "markdown",
   "metadata": {},
   "source": [
    "## Data Acquisition"
   ]
  },
  {
   "cell_type": "code",
   "execution_count": 3,
   "metadata": {},
   "outputs": [
    {
     "name": "stdout",
     "output_type": "stream",
     "text": [
      "Warning: Looks like you're using an outdated `kagglehub` version (installed: 0.3.7), please consider upgrading to the latest version (0.3.10).\n",
      "Downloading from https://www.kaggle.com/api/v1/datasets/download/blastchar/telco-customer-churn?dataset_version_number=1&file_name=WA_Fn-UseC_-Telco-Customer-Churn.csv...\n"
     ]
    },
    {
     "name": "stderr",
     "output_type": "stream",
     "text": [
      "100%|██████████| 955k/955k [00:00<00:00, 1.85MB/s]\n"
     ]
    }
   ],
   "source": [
    "path = kagglehub.dataset_download(\"blastchar/telco-customer-churn\",path='WA_Fn-UseC_-Telco-Customer-Churn.csv')"
   ]
  },
  {
   "cell_type": "code",
   "execution_count": 4,
   "metadata": {},
   "outputs": [
    {
     "name": "stdout",
     "output_type": "stream",
     "text": [
      "File deleted sucessfully.\n"
     ]
    }
   ],
   "source": [
    "destination = os.environ.get('LR_Destination')\n",
    "\n",
    "alr_exists = str(destination + '/' + 'WA_Fn-UseC_-Telco-Customer-Churn.csv')\n",
    "\n",
    "if os.path.exists(alr_exists):\n",
    "        os.remove(alr_exists)\n",
    "        print(f\"File deleted sucessfully.\")\n",
    "else:\n",
    "        print(f\"File not found.\")"
   ]
  },
  {
   "cell_type": "code",
   "execution_count": 5,
   "metadata": {},
   "outputs": [],
   "source": [
    "source = os.environ.get('LR_SOURCE')\n",
    "\n",
    "allfiles = os.listdir(source)\n",
    "\n",
    "for f in allfiles:\n",
    "        src_path = os.path.join(source, f)\n",
    "        dst_path = os.path.join(destination, f)\n",
    "        os.rename(src_path, dst_path)"
   ]
  },
  {
   "cell_type": "code",
   "execution_count": 6,
   "metadata": {},
   "outputs": [],
   "source": [
    "str(destination + '/' + 'WA_Fn-UseC_-Telco-Customer-Churn.csv')  \n",
    "ChurnData = pd.read_csv(str(destination + '/' + 'WA_Fn-UseC_-Telco-Customer-Churn.csv'))"
   ]
  },
  {
   "cell_type": "markdown",
   "metadata": {},
   "source": [
    "## Data Proccessing"
   ]
  },
  {
   "cell_type": "code",
   "execution_count": 7,
   "metadata": {},
   "outputs": [],
   "source": [
    "#Pre-Processing of Data, removing CustomerID, and Converting TotalCharges into a float.\n",
    "ChurnData.drop('customerID',axis=1,inplace=True)\n",
    "ChurnData['TotalCharges'] = pd.to_numeric(ChurnData['TotalCharges'], errors='coerce').fillna(pd.to_numeric(ChurnData['TotalCharges'], errors='coerce').mean())"
   ]
  },
  {
   "cell_type": "code",
   "execution_count": 8,
   "metadata": {},
   "outputs": [],
   "source": [
    "# most likely the columns that are categorical -> not numerical (Creating function to dynamically assign integer values to categorical information)\n",
    "# Some data is multicollinear, meaning that there is redundant information.\n",
    "for column in ChurnData:\n",
    "    if(ChurnData[column].dtype == 'object' and len(ChurnData[column].unique()) > 2):\n",
    "            ChurnData = pd.get_dummies(ChurnData, columns=[str(column)], drop_first=True)\n",
    "\n",
    "#Convert booleans created from pd.get_dummies and map them dynamically into 0s and 1s\n",
    "for column in ChurnData:\n",
    "      if(ChurnData[column].dtypes == bool):\n",
    "            ChurnData[column] = ChurnData[column].astype(int)"
   ]
  },
  {
   "cell_type": "code",
   "execution_count": 9,
   "metadata": {},
   "outputs": [],
   "source": [
    "#Retrieving columns that were generated by pandas dummy variables and calculating VIF for detecting colinearity\n",
    "data = ChurnData.loc[:, ChurnData.columns.str.contains(\"_\")]\n",
    "\n",
    "vif_df = pd.DataFrame()\n",
    "vif_df[\"feature\"] = data.columns\n",
    "vif_df[\"VIF_Score\"] = [variance_inflation_factor(data.values, i) for i in range(len(data.columns))]\n",
    "\n",
    "#Retrieving scores that were greater than 10, indicates need to be dropped from original dataset\n",
    "vif_df = vif_df[vif_df[\"VIF_Score\"] > 10]['feature']"
   ]
  },
  {
   "cell_type": "code",
   "execution_count": 10,
   "metadata": {},
   "outputs": [],
   "source": [
    "cols = [col for col in ChurnData.columns if col not in vif_df.to_numpy()]\n",
    "ChurnData = ChurnData.loc[:, cols]"
   ]
  },
  {
   "cell_type": "code",
   "execution_count": 11,
   "metadata": {},
   "outputs": [],
   "source": [
    "#Mapping remaining yes/no columns to 0s and 1s dynamically\n",
    "yes_no_map = {'Yes' : 1, 'No' : 0}\n",
    "\n",
    "map_yes_no_columns = []\n",
    "for cols in ChurnData:\n",
    "    if 'Yes' in ChurnData[cols].unique() or 'No' in ChurnData[cols].unique():\n",
    "        map_yes_no_columns.append(ChurnData[cols].name)\n",
    "\n",
    "for row in ChurnData[map_yes_no_columns]:\n",
    "    ChurnData[row] = ChurnData[map_yes_no_columns][row].map(yes_no_map)\n",
    "\n",
    "ChurnData.rename(columns={'gender' : 'Male'}, inplace=True)"
   ]
  },
  {
   "cell_type": "code",
   "execution_count": 12,
   "metadata": {},
   "outputs": [],
   "source": [
    "gender_map = {'Male': 1, 'Female': 0}\n",
    "\n",
    "ChurnData['Male'] = ChurnData[\"Male\"].map(gender_map)"
   ]
  },
  {
   "cell_type": "code",
   "execution_count": 13,
   "metadata": {},
   "outputs": [],
   "source": [
    "Churn_X = ChurnData.drop('Churn', axis=1)\n",
    "Churn_y = ChurnData['Churn']"
   ]
  },
  {
   "cell_type": "code",
   "execution_count": null,
   "metadata": {},
   "outputs": [
    {
     "name": "stdout",
     "output_type": "stream",
     "text": [
      "Fitting 5 folds for each of 2000 candidates, totalling 10000 fits\n",
      "Fitting 5 folds for each of 10 candidates, totalling 50 fits\n"
     ]
    }
   ],
   "source": [
    "from imblearn.over_sampling import SMOTE\n",
    "\n",
    "Churn_X = ChurnData.drop('Churn', axis=1)\n",
    "Churn_y = ChurnData['Churn']\n",
    "\n",
    "param_grid = {\n",
    "    'penalty': ['l1', 'l2','elasticnet','none'],\n",
    "    'C': np.logspace(-4,4,20),\n",
    "    'solver': ['lbfgs','newton-cg','liblinear','sag','saga'],\n",
    "    'max_iter': [50, 100, 200, 500, 1000]\n",
    "}\n",
    "\n",
    "scaler = MinMaxScaler()\n",
    "\n",
    "Churn_X = scaler.fit_transform(Churn_X)\n",
    "\n",
    "CD_X_train, CD_X_test, CD_y_train, CD_y_test = train_test_split(\n",
    "    Churn_X, Churn_y, test_size=0.2, random_state=42\n",
    ")\n",
    "\n",
    "gs_cv = GridSearchCV(LogisticRegression(), param_grid, cv=5,verbose=True, n_jobs=1)\n",
    "best_clf = gs_cv.fit(CD_X_train, CD_y_train)\n",
    "\n",
    "rs_cv = RandomizedSearchCV(LogisticRegression(), param_grid, cv=5, verbose=True, n_jobs=1)\n",
    "best_clf2 = rs_cv.fit(CD_X_train, CD_y_train)"
   ]
  },
  {
   "cell_type": "code",
   "execution_count": 15,
   "metadata": {},
   "outputs": [
    {
     "name": "stdout",
     "output_type": "stream",
     "text": [
      "Accuracy of RandomizedSearchCV: 81.33% \n",
      " \n",
      "Classification Report: \n",
      " \n",
      "              precision    recall  f1-score   support\n",
      "\n",
      "           0       0.83      0.94      0.88      1036\n",
      "           1       0.73      0.47      0.57       373\n",
      "\n",
      "    accuracy                           0.81      1409\n",
      "   macro avg       0.78      0.70      0.73      1409\n",
      "weighted avg       0.80      0.81      0.80      1409\n",
      "\n",
      "Accuracy of GridSearchCV: 82.54% \n",
      "\n",
      "Classification Report: \n",
      " \n",
      "              precision    recall  f1-score   support\n",
      "\n",
      "           0       0.86      0.91      0.88      1036\n",
      "           1       0.71      0.58      0.64       373\n",
      "\n",
      "    accuracy                           0.83      1409\n",
      "   macro avg       0.78      0.75      0.76      1409\n",
      "weighted avg       0.82      0.83      0.82      1409\n",
      "\n",
      "Accuracy of LogisticRegression [No Optimized Hyperparameters]: 82.11% \n",
      "\n",
      "Classification Report: \n",
      " \n",
      "              precision    recall  f1-score   support\n",
      "\n",
      "           0       0.86      0.90      0.88      1036\n",
      "           1       0.69      0.60      0.64       373\n",
      "\n",
      "    accuracy                           0.82      1409\n",
      "   macro avg       0.77      0.75      0.76      1409\n",
      "weighted avg       0.81      0.82      0.82      1409\n",
      "\n"
     ]
    }
   ],
   "source": [
    "grid_model = LogisticRegression(C=best_clf.best_params_['C'], max_iter=best_clf.best_params_['max_iter'], \\\n",
    "    penalty=best_clf.best_params_['penalty'], solver=best_clf.best_params_['solver'])\n",
    "\n",
    "grid_model.fit(CD_X_train, CD_y_train)\n",
    "grid_churn_pred = grid_model.predict(CD_X_test)\n",
    "\n",
    "\n",
    "#######################################################################################################################\n",
    "\n",
    "random_model = LogisticRegression(C=best_clf2.best_params_['C'], max_iter=best_clf2.best_params_['max_iter'], \\\n",
    "    penalty=best_clf2.best_params_['penalty'], solver=best_clf2.best_params_['solver'])\n",
    "\n",
    "random_model.fit(CD_X_train, CD_y_train)\n",
    "random_churn_pred = random_model.predict(CD_X_test)    \n",
    "\n",
    "#######################################################################################################################\n",
    "\n",
    "model = LogisticRegression()\n",
    "\n",
    "model.fit(CD_X_train, CD_y_train)\n",
    "model_pred = model.predict(CD_X_test)\n",
    "\n",
    "print(\"Accuracy of RandomizedSearchCV: {:.2f}% \\n \".format(accuracy_score(CD_y_test, random_churn_pred) * 100))\n",
    "print(\"Classification Report: \\n \\n\" + classification_report(CD_y_test, random_churn_pred))\n",
    "\n",
    "print(\"Accuracy of GridSearchCV: {:.2f}% \\n\".format(accuracy_score(CD_y_test, grid_churn_pred) * 100))\n",
    "print(\"Classification Report: \\n \\n\" + classification_report(CD_y_test, grid_churn_pred))\n",
    "\n",
    "print(\"Accuracy of LogisticRegression [No Optimized Hyperparameters]: {:.2f}% \\n\".format(accuracy_score(CD_y_test, model_pred) * 100))\n",
    "print(\"Classification Report: \\n \\n\" + classification_report(CD_y_test, model_pred))\n"
   ]
  },
  {
   "cell_type": "markdown",
   "metadata": {},
   "source": [
    "## Metrics and Comparisons"
   ]
  },
  {
   "cell_type": "code",
   "execution_count": 16,
   "metadata": {},
   "outputs": [
    {
     "data": {
      "image/png": "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",
      "text/plain": [
       "<Figure size 800x600 with 1 Axes>"
      ]
     },
     "metadata": {},
     "output_type": "display_data"
    }
   ],
   "source": [
    "#AUC-ROC curve plots True Positive Rate against False Positive Rate at different thresholds showing how well a model can distinguish between customers that stay vs leave.\n",
    "#TPR = p(True Positives are found)\n",
    "#FPR = p(False Positives are found)\n",
    "ChurnModel = grid_model.fit(CD_X_train, CD_y_train)\n",
    "\n",
    "y_prob = ChurnModel.predict_proba(CD_X_test)[:, 1]\n",
    "fpr, tpr, thresholds = roc_curve(CD_y_test, y_prob)\n",
    "roc_auc = auc(fpr, tpr)\n",
    " \n",
    "plt.figure(figsize=(8, 6))\n",
    "plt.plot(fpr, tpr, color='darkorange', lw=2,\n",
    "         label=f'ROC Curve (AUC = {roc_auc:.2f})')\n",
    "plt.plot([0, 1], [0, 1], color='navy', lw=2, linestyle='--', label='Random')\n",
    "plt.xlabel('False Positive Rate')\n",
    "plt.ylabel('True Positive Rate')\n",
    "plt.title('Receiver Operating Characteristic (ROC) Curve\\nAccuracy: {:.2f}%'.format(accuracy_score(CD_y_test, grid_churn_pred) * 100))\n",
    "plt.legend(loc=\"lower right\")\n",
    "plt.show()"
   ]
  },
  {
   "cell_type": "markdown",
   "metadata": {},
   "source": [
    "## Statistical Analysis"
   ]
  },
  {
   "cell_type": "code",
   "execution_count": 55,
   "metadata": {},
   "outputs": [
    {
     "name": "stdout",
     "output_type": "stream",
     "text": [
      "Optimization terminated successfully.\n",
      "         Current function value: 0.414247\n",
      "         Iterations 8\n"
     ]
    }
   ],
   "source": [
    "#statsmodels.api has a package [logit] that provides a summary on the independent and dependent variables\n",
    "\n",
    "sm.Logit(Churn_y, Churn_X)\n",
    "mcs = sm.Logit(Churn_y, Churn_X).fit().summary(xname=[header for header in ChurnData.drop('Churn', axis=1)])\n",
    "\n",
    "relevant_metrics = pd.DataFrame()\n",
    "model_coefficients = pd.DataFrame()\n",
    "\n",
    "for i in range(2):\n",
    "    if i == 0:\n",
    "        relevant_metrics = pd.read_html(mcs.tables[0].as_html())\n",
    "    else:\n",
    "        model_coefficients = pd.read_html(mcs.tables[1].as_html())\n",
    "\n",
    "mc_map = {0: 'ColumnName', 1: 'Coef', 2: 'Std. Err', 3: 'z', 4: 'P>|z|', 5: '[0.025', 6: '0.975]'}\n",
    "\n",
    "model_coefficients[0].rename(mc_map,axis=1,inplace=True)\n",
    "model_coefficients = model_coefficients[0].loc[1:];\n",
    "\n",
    "relevant_metrics = relevant_metrics[0]"
   ]
  },
  {
   "cell_type": "code",
   "execution_count": 56,
   "metadata": {},
   "outputs": [
    {
     "data": {
      "text/html": [
       "<div>\n",
       "<style scoped>\n",
       "    .dataframe tbody tr th:only-of-type {\n",
       "        vertical-align: middle;\n",
       "    }\n",
       "\n",
       "    .dataframe tbody tr th {\n",
       "        vertical-align: top;\n",
       "    }\n",
       "\n",
       "    .dataframe thead th {\n",
       "        text-align: right;\n",
       "    }\n",
       "</style>\n",
       "<table border=\"1\" class=\"dataframe\">\n",
       "  <thead>\n",
       "    <tr style=\"text-align: right;\">\n",
       "      <th></th>\n",
       "      <th></th>\n",
       "      <th></th>\n",
       "    </tr>\n",
       "  </thead>\n",
       "  <tbody>\n",
       "    <tr>\n",
       "      <th>0</th>\n",
       "      <td>Dep. Variable:</td>\n",
       "      <td>Churn</td>\n",
       "    </tr>\n",
       "    <tr>\n",
       "      <th>1</th>\n",
       "      <td>Model:</td>\n",
       "      <td>Logit</td>\n",
       "    </tr>\n",
       "    <tr>\n",
       "      <th>2</th>\n",
       "      <td>Method:</td>\n",
       "      <td>MLE</td>\n",
       "    </tr>\n",
       "    <tr>\n",
       "      <th>3</th>\n",
       "      <td>Date:</td>\n",
       "      <td>Sat, 01 Mar 2025</td>\n",
       "    </tr>\n",
       "    <tr>\n",
       "      <th>4</th>\n",
       "      <td>Time:</td>\n",
       "      <td>19:39:40</td>\n",
       "    </tr>\n",
       "    <tr>\n",
       "      <th>5</th>\n",
       "      <td>converged:</td>\n",
       "      <td>True</td>\n",
       "    </tr>\n",
       "    <tr>\n",
       "      <th>6</th>\n",
       "      <td>Covariance Type:</td>\n",
       "      <td>nonrobust</td>\n",
       "    </tr>\n",
       "  </tbody>\n",
       "</table>\n",
       "</div>"
      ],
      "text/plain": [
       "                                     \n",
       "0    Dep. Variable:             Churn\n",
       "1            Model:             Logit\n",
       "2           Method:               MLE\n",
       "3             Date:  Sat, 01 Mar 2025\n",
       "4             Time:          19:39:40\n",
       "5        converged:              True\n",
       "6  Covariance Type:         nonrobust"
      ]
     },
     "execution_count": 56,
     "metadata": {},
     "output_type": "execute_result"
    }
   ],
   "source": [
    "rename_nothing = {0: '', 1: ''}\n",
    "\n",
    "other_info = relevant_metrics.iloc[:,[0,1]].rename(columns = rename_nothing)\n",
    "other_info"
   ]
  },
  {
   "cell_type": "code",
   "execution_count": 57,
   "metadata": {},
   "outputs": [
    {
     "data": {
      "text/html": [
       "<div>\n",
       "<style scoped>\n",
       "    .dataframe tbody tr th:only-of-type {\n",
       "        vertical-align: middle;\n",
       "    }\n",
       "\n",
       "    .dataframe tbody tr th {\n",
       "        vertical-align: top;\n",
       "    }\n",
       "\n",
       "    .dataframe thead th {\n",
       "        text-align: right;\n",
       "    }\n",
       "</style>\n",
       "<table border=\"1\" class=\"dataframe\">\n",
       "  <thead>\n",
       "    <tr style=\"text-align: right;\">\n",
       "      <th></th>\n",
       "      <th>ColumnName</th>\n",
       "      <th>Coef</th>\n",
       "      <th>Std. Err</th>\n",
       "      <th>z</th>\n",
       "      <th>P&gt;|z|</th>\n",
       "      <th>[0.025</th>\n",
       "      <th>0.975]</th>\n",
       "    </tr>\n",
       "  </thead>\n",
       "  <tbody>\n",
       "    <tr>\n",
       "      <th>8</th>\n",
       "      <td>MonthlyCharges</td>\n",
       "      <td>2.9233</td>\n",
       "      <td>0.543</td>\n",
       "      <td>5.383</td>\n",
       "      <td>0.000</td>\n",
       "      <td>1.859</td>\n",
       "      <td>3.988</td>\n",
       "    </tr>\n",
       "    <tr>\n",
       "      <th>9</th>\n",
       "      <td>TotalCharges</td>\n",
       "      <td>2.5991</td>\n",
       "      <td>0.595</td>\n",
       "      <td>4.370</td>\n",
       "      <td>0.000</td>\n",
       "      <td>1.433</td>\n",
       "      <td>3.765</td>\n",
       "    </tr>\n",
       "    <tr>\n",
       "      <th>7</th>\n",
       "      <td>PaperlessBilling</td>\n",
       "      <td>0.3479</td>\n",
       "      <td>0.074</td>\n",
       "      <td>4.677</td>\n",
       "      <td>0.000</td>\n",
       "      <td>0.202</td>\n",
       "      <td>0.494</td>\n",
       "    </tr>\n",
       "    <tr>\n",
       "      <th>22</th>\n",
       "      <td>PaymentMethod_Electronic check</td>\n",
       "      <td>0.3078</td>\n",
       "      <td>0.094</td>\n",
       "      <td>3.258</td>\n",
       "      <td>0.001</td>\n",
       "      <td>0.123</td>\n",
       "      <td>0.493</td>\n",
       "    </tr>\n",
       "    <tr>\n",
       "      <th>2</th>\n",
       "      <td>SeniorCitizen</td>\n",
       "      <td>0.2132</td>\n",
       "      <td>0.085</td>\n",
       "      <td>2.522</td>\n",
       "      <td>0.012</td>\n",
       "      <td>0.047</td>\n",
       "      <td>0.379</td>\n",
       "    </tr>\n",
       "    <tr>\n",
       "      <th>5</th>\n",
       "      <td>tenure</td>\n",
       "      <td>-4.1690</td>\n",
       "      <td>0.433</td>\n",
       "      <td>-9.630</td>\n",
       "      <td>0.000</td>\n",
       "      <td>-5.018</td>\n",
       "      <td>-3.321</td>\n",
       "    </tr>\n",
       "    <tr>\n",
       "      <th>20</th>\n",
       "      <td>Contract_Two year</td>\n",
       "      <td>-1.4024</td>\n",
       "      <td>0.176</td>\n",
       "      <td>-7.979</td>\n",
       "      <td>0.000</td>\n",
       "      <td>-1.747</td>\n",
       "      <td>-1.058</td>\n",
       "    </tr>\n",
       "    <tr>\n",
       "      <th>6</th>\n",
       "      <td>PhoneService</td>\n",
       "      <td>-1.2912</td>\n",
       "      <td>0.159</td>\n",
       "      <td>-8.118</td>\n",
       "      <td>0.000</td>\n",
       "      <td>-1.603</td>\n",
       "      <td>-0.979</td>\n",
       "    </tr>\n",
       "    <tr>\n",
       "      <th>19</th>\n",
       "      <td>Contract_One year</td>\n",
       "      <td>-0.6755</td>\n",
       "      <td>0.107</td>\n",
       "      <td>-6.293</td>\n",
       "      <td>0.000</td>\n",
       "      <td>-0.886</td>\n",
       "      <td>-0.465</td>\n",
       "    </tr>\n",
       "    <tr>\n",
       "      <th>13</th>\n",
       "      <td>OnlineSecurity_Yes</td>\n",
       "      <td>-0.5431</td>\n",
       "      <td>0.094</td>\n",
       "      <td>-5.801</td>\n",
       "      <td>0.000</td>\n",
       "      <td>-0.727</td>\n",
       "      <td>-0.360</td>\n",
       "    </tr>\n",
       "    <tr>\n",
       "      <th>16</th>\n",
       "      <td>TechSupport_Yes</td>\n",
       "      <td>-0.5201</td>\n",
       "      <td>0.094</td>\n",
       "      <td>-5.525</td>\n",
       "      <td>0.000</td>\n",
       "      <td>-0.705</td>\n",
       "      <td>-0.336</td>\n",
       "    </tr>\n",
       "    <tr>\n",
       "      <th>14</th>\n",
       "      <td>OnlineBackup_Yes</td>\n",
       "      <td>-0.3136</td>\n",
       "      <td>0.085</td>\n",
       "      <td>-3.692</td>\n",
       "      <td>0.000</td>\n",
       "      <td>-0.480</td>\n",
       "      <td>-0.147</td>\n",
       "    </tr>\n",
       "    <tr>\n",
       "      <th>15</th>\n",
       "      <td>DeviceProtection_Yes</td>\n",
       "      <td>-0.1930</td>\n",
       "      <td>0.086</td>\n",
       "      <td>-2.239</td>\n",
       "      <td>0.025</td>\n",
       "      <td>-0.362</td>\n",
       "      <td>-0.024</td>\n",
       "    </tr>\n",
       "  </tbody>\n",
       "</table>\n",
       "</div>"
      ],
      "text/plain": [
       "                        ColumnName     Coef Std. Err       z  P>|z|  [0.025  \\\n",
       "8                   MonthlyCharges   2.9233    0.543   5.383  0.000   1.859   \n",
       "9                     TotalCharges   2.5991    0.595   4.370  0.000   1.433   \n",
       "7                 PaperlessBilling   0.3479    0.074   4.677  0.000   0.202   \n",
       "22  PaymentMethod_Electronic check   0.3078    0.094   3.258  0.001   0.123   \n",
       "2                    SeniorCitizen   0.2132    0.085   2.522  0.012   0.047   \n",
       "5                           tenure  -4.1690    0.433  -9.630  0.000  -5.018   \n",
       "20               Contract_Two year  -1.4024    0.176  -7.979  0.000  -1.747   \n",
       "6                     PhoneService  -1.2912    0.159  -8.118  0.000  -1.603   \n",
       "19               Contract_One year  -0.6755    0.107  -6.293  0.000  -0.886   \n",
       "13              OnlineSecurity_Yes  -0.5431    0.094  -5.801  0.000  -0.727   \n",
       "16                 TechSupport_Yes  -0.5201    0.094  -5.525  0.000  -0.705   \n",
       "14                OnlineBackup_Yes  -0.3136    0.085  -3.692  0.000  -0.480   \n",
       "15            DeviceProtection_Yes  -0.1930    0.086  -2.239  0.025  -0.362   \n",
       "\n",
       "    0.975]  \n",
       "8    3.988  \n",
       "9    3.765  \n",
       "7    0.494  \n",
       "22   0.493  \n",
       "2    0.379  \n",
       "5   -3.321  \n",
       "20  -1.058  \n",
       "6   -0.979  \n",
       "19  -0.465  \n",
       "13  -0.360  \n",
       "16  -0.336  \n",
       "14  -0.147  \n",
       "15  -0.024  "
      ]
     },
     "execution_count": 57,
     "metadata": {},
     "output_type": "execute_result"
    }
   ],
   "source": [
    "model_coefficients.loc[model_coefficients['P>|z|'].astype(float) < .05].sort_values(by='Coef',ascending=False)"
   ]
  }
 ],
 "metadata": {
  "kernelspec": {
   "display_name": ".venv",
   "language": "python",
   "name": "python3"
  },
  "language_info": {
   "codemirror_mode": {
    "name": "ipython",
    "version": 3
   },
   "file_extension": ".py",
   "mimetype": "text/x-python",
   "name": "python",
   "nbconvert_exporter": "python",
   "pygments_lexer": "ipython3",
   "version": "3.11.9"
  }
 },
 "nbformat": 4,
 "nbformat_minor": 2
=======
    "cells": [
        {
            "cell_type": "markdown",
            "metadata": {},
            "source": [
                "# Logistic Regression for Telco Churn Analysis"
            ]
        },
        {
            "cell_type": "markdown",
            "metadata": {},
            "source": [
                "#### Utilizing data retrieved from a Kaggle dataset to build a logistic regression model aimed at predicting customer churn rates.  \n",
                "\n",
                "Also included is a statistical analysis to identify the most significant features and their correlation to churn rates.  "
            ]
        },
        {
            "cell_type": "code",
            "execution_count": 33,
            "metadata": {},
            "outputs": [
                {
                    "data": {
                        "text/plain": [
                            "''"
                        ]
                    },
                    "execution_count": 33,
                    "metadata": {},
                    "output_type": "execute_result"
                }
            ],
            "source": [
                "import requests\n",
                "import pandas as pd\n",
                "import numpy as np\n",
                "import kagglehub\n",
                "import os\n",
                "from statsmodels.stats.outliers_influence import variance_inflation_factor\n",
                "from sklearn.linear_model import LogisticRegression\n",
                "from sklearn.model_selection import train_test_split\n",
                "from sklearn.metrics import classification_report, confusion_matrix, accuracy_score, roc_curve, auc\n",
                "from sklearn.preprocessing import MinMaxScaler\n",
                "import matplotlib.pyplot as plt\n",
                "import statsmodels.api as sm\n",
                "import seaborn as sns\n",
                "import warnings\n",
                "from scipy import stats\n",
                "from scipy.stats import randint\n",
                "from sklearn.model_selection import RandomizedSearchCV, GridSearchCV\n",
                "# from sklearn.datasets import make_classification\n",
                "import statistics\n",
                "\n",
                "warnings.filterwarnings(\"ignore\")\n",
                ";"
            ]
        },
        {
            "cell_type": "markdown",
            "metadata": {},
            "source": [
                "## Data Acquisition"
            ]
        },
        {
            "cell_type": "code",
            "execution_count": 34,
            "metadata": {},
            "outputs": [
                {
                    "name": "stdout",
                    "output_type": "stream",
                    "text": [
                        "Warning: Looks like you're using an outdated `kagglehub` version (installed: 0.3.7), please consider upgrading to the latest version (0.3.10).\n",
                        "Downloading from https://www.kaggle.com/api/v1/datasets/download/blastchar/telco-customer-churn?dataset_version_number=1&file_name=WA_Fn-UseC_-Telco-Customer-Churn.csv...\n"
                    ]
                },
                {
                    "name": "stderr",
                    "output_type": "stream",
                    "text": [
                        "100%|██████████| 955k/955k [00:00<00:00, 1.73MB/s]\n"
                    ]
                }
            ],
            "source": [
                "path = kagglehub.dataset_download(\"blastchar/telco-customer-churn\",path='WA_Fn-UseC_-Telco-Customer-Churn.csv')"
            ]
        },
        {
            "cell_type": "code",
            "execution_count": 35,
            "metadata": {},
            "outputs": [
                {
                    "name": "stdout",
                    "output_type": "stream",
                    "text": [
                        "File deleted sucessfully.\n"
                    ]
                }
            ],
            "source": [
                "destination = os.environ.get('LR_Destination')\n",
                "\n",
                "alr_exists = str(destination + '/' + 'WA_Fn-UseC_-Telco-Customer-Churn.csv')\n",
                "\n",
                "if os.path.exists(alr_exists):\n",
                "        os.remove(alr_exists)\n",
                "        print(f\"File deleted sucessfully.\")\n",
                "else:\n",
                "        print(f\"File not found.\")"
            ]
        },
        {
            "cell_type": "code",
            "execution_count": 36,
            "metadata": {},
            "outputs": [],
            "source": [
                "source = os.environ.get('LR_SOURCE')\n",
                "\n",
                "allfiles = os.listdir(source)\n",
                "\n",
                "for f in allfiles:\n",
                "        src_path = os.path.join(source, f)\n",
                "        dst_path = os.path.join(destination, f)\n",
                "        os.rename(src_path, dst_path)"
            ]
        },
        {
            "cell_type": "code",
            "execution_count": 37,
            "metadata": {},
            "outputs": [],
            "source": [
                "str(destination + '/' + 'WA_Fn-UseC_-Telco-Customer-Churn.csv')  \n",
                "ChurnData = pd.read_csv(str(destination + '/' + 'WA_Fn-UseC_-Telco-Customer-Churn.csv'))"
            ]
        },
        {
            "cell_type": "markdown",
            "metadata": {},
            "source": [
                "## Data Proccessing"
            ]
        },
        {
            "cell_type": "code",
            "execution_count": 38,
            "metadata": {},
            "outputs": [],
            "source": [
                "#Pre-Processing of Data, removing CustomerID, and Converting TotalCharges into a float.\n",
                "ChurnData.drop('customerID',axis=1,inplace=True)\n",
                "ChurnData['TotalCharges'] = pd.to_numeric(ChurnData['TotalCharges'], errors='coerce').fillna(pd.to_numeric(ChurnData['TotalCharges'], errors='coerce').mean())"
            ]
        },
        {
            "cell_type": "code",
            "execution_count": 39,
            "metadata": {},
            "outputs": [],
            "source": [
                "# most likely the columns that are categorical -> not numerical (Creating function to dynamically assign integer values to categorical information)\n",
                "# Some data is multicollinear, meaning that there is redundant information.\n",
                "for column in ChurnData:\n",
                "    if(ChurnData[column].dtype == 'object' and len(ChurnData[column].unique()) > 2):\n",
                "            ChurnData = pd.get_dummies(ChurnData, columns=[str(column)], drop_first=True)\n",
                "\n",
                "#Convert booleans created from pd.get_dummies and map them dynamically into 0s and 1s\n",
                "for column in ChurnData:\n",
                "      if(ChurnData[column].dtypes == bool):\n",
                "            ChurnData[column] = ChurnData[column].astype(int)"
            ]
        },
        {
            "cell_type": "code",
            "execution_count": 40,
            "metadata": {},
            "outputs": [],
            "source": [
                "#Retrieving columns that were generated by pandas dummy variables and calculating VIF for detecting colinearity\n",
                "data = ChurnData.loc[:, ChurnData.columns.str.contains(\"_\")]\n",
                "\n",
                "vif_df = pd.DataFrame()\n",
                "vif_df[\"feature\"] = data.columns\n",
                "vif_df[\"VIF_Score\"] = [variance_inflation_factor(data.values, i) for i in range(len(data.columns))]\n",
                "\n",
                "#Retrieving scores that were greater than 10, indicates need to be dropped from original dataset\n",
                "vif_df = vif_df[vif_df[\"VIF_Score\"] > 10]['feature']"
            ]
        },
        {
            "cell_type": "code",
            "execution_count": 41,
            "metadata": {},
            "outputs": [],
            "source": [
                "cols = [col for col in ChurnData.columns if col not in vif_df.to_numpy()]\n",
                "ChurnData = ChurnData.loc[:, cols]"
            ]
        },
        {
            "cell_type": "code",
            "execution_count": 42,
            "metadata": {},
            "outputs": [],
            "source": [
                "#Mapping remaining yes/no columns to 0s and 1s dynamically\n",
                "yes_no_map = {'Yes' : 1, 'No' : 0}\n",
                "\n",
                "map_yes_no_columns = []\n",
                "for cols in ChurnData:\n",
                "    if 'Yes' in ChurnData[cols].unique() or 'No' in ChurnData[cols].unique():\n",
                "        map_yes_no_columns.append(ChurnData[cols].name)\n",
                "\n",
                "for row in ChurnData[map_yes_no_columns]:\n",
                "    ChurnData[row] = ChurnData[map_yes_no_columns][row].map(yes_no_map)\n",
                "\n",
                "ChurnData.rename(columns={'gender' : 'Male'}, inplace=True)"
            ]
        },
        {
            "cell_type": "code",
            "execution_count": 43,
            "metadata": {},
            "outputs": [],
            "source": [
                "gender_map = {'Male': 1, 'Female': 0}\n",
                "\n",
                "ChurnData['Male'] = ChurnData[\"Male\"].map(gender_map)"
            ]
        },
        {
            "cell_type": "code",
            "execution_count": 51,
            "metadata": {},
            "outputs": [],
            "source": [
                "Churn_X = ChurnData.drop('Churn', axis=1)\n",
                "Churn_y = ChurnData['Churn']"
            ]
        },
        {
            "cell_type": "markdown",
            "metadata": {},
            "source": [
                "## Logistic Regression Model Building"
            ]
        },
        {
            "cell_type": "markdown",
            "metadata": {},
            "source": [
                "#### Hyperparameter Tuning\n",
                "\n",
                "Overview:\n",
                "\n",
                "There are two common methods for tuning hyperparameters: **`GridSearchCV`** and **`RandomizedSearchCV`**.\n",
                "\n",
                "- **`GridSearchCV`**  \n",
                "  - This algorithm works by exhaustively searching through **all possible** combinations of model configuration.\n",
                "  - We define a parameter grid, which acts as a dictionary where the keys are the different hyperparameters, and the values are the ranges of values that we want to explore. \n",
                "  - The downside of this is that it can be very computationally expensive, so it's important to understand whether or not accuracy of a model is priority.\n",
                "  - This **performance** is based on different metrics, such as F1-Score, Accuracy, Recall, and Precision \n",
                "\n",
                "\n",
                "- **`RandomizedSearchCV`**  \n",
                "  - Samples **random** combinations from the hyperparameter space, rather than searching all possible combinations.  \n",
                "  - Advantages to this is that RandomizedSearchCV can be **much faster**, however it's possible to miss the **best possible combination**\n"
            ]
        },
        {
            "cell_type": "markdown",
            "metadata": {},
            "source": [
                "The different hyperparameters that are important in logistic regression are...\n",
                "\n",
                "- **penalty** - controls regularization, helping prevent overfitting by adding constraint to the model's coefficient\n",
                "- **tol** - Tolerance for stopping criteria of gradient descent. Gradient descent is an optimization algorithm used to train ML models by minimizing errors between predicted and actual results by iteratively changing parameters.\n",
                "- **C** - C is the inverse of regularization. It is a constant that determines how strongly regularization will affect the model.\n",
                "- **solver** - These are the methods that try and estimate the best possible parameters while producing the least amount of error in predicting the output, aka the cost function.\n",
                "- **max_iter** - specifies max # of iterations that solver is allowed to take in order to converge to a solution"
            ]
        },
        {
            "cell_type": "code",
            "execution_count": 45,
            "metadata": {},
            "outputs": [
                {
                    "name": "stdout",
                    "output_type": "stream",
                    "text": [
                        "Fitting 5 folds for each of 2000 candidates, totalling 10000 fits\n",
                        "Fitting 5 folds for each of 10 candidates, totalling 50 fits\n"
                    ]
                }
            ],
            "source": [
                "from imblearn.over_sampling import SMOTE\n",
                "\n",
                "Churn_X = ChurnData.drop('Churn', axis=1)\n",
                "Churn_y = ChurnData['Churn']\n",
                "\n",
                "param_grid = {\n",
                "    'penalty': ['l1', 'l2','elasticnet','none'],\n",
                "    'C': np.logspace(-4,4,20),\n",
                "    'solver': ['lbfgs','newton-cg','liblinear','sag','saga'],\n",
                "    'max_iter': [50, 100, 200, 500, 1000]\n",
                "}\n",
                "\n",
                "scaler = MinMaxScaler()\n",
                "\n",
                "Churn_X = scaler.fit_transform(Churn_X)\n",
                "\n",
                "CD_X_train, CD_X_test, CD_y_train, CD_y_test = train_test_split(\n",
                "    Churn_X, Churn_y, test_size=0.2, random_state=42\n",
                ")\n",
                "\n",
                "gs_cv = GridSearchCV(LogisticRegression(), param_grid, cv=5,verbose=True, n_jobs=1)\n",
                "best_clf = gs_cv.fit(CD_X_train, CD_y_train)\n",
                "\n",
                "rs_cv = RandomizedSearchCV(LogisticRegression(), param_grid, cv=5, verbose=True, n_jobs=1)\n",
                "best_clf2 = rs_cv.fit(CD_X_train, CD_y_train)"
            ]
        },
        {
            "cell_type": "code",
            "execution_count": 48,
            "metadata": {},
            "outputs": [
                {
                    "name": "stdout",
                    "output_type": "stream",
                    "text": [
                        "Accuracy of RandomizedSearchCV: 82.04% \n",
                        " \n",
                        "Classification Report: \n",
                        " \n",
                        "              precision    recall  f1-score   support\n",
                        "\n",
                        "           0       0.86      0.90      0.88      1036\n",
                        "           1       0.68      0.60      0.64       373\n",
                        "\n",
                        "    accuracy                           0.82      1409\n",
                        "   macro avg       0.77      0.75      0.76      1409\n",
                        "weighted avg       0.81      0.82      0.82      1409\n",
                        "\n",
                        "Accuracy of GridSearchCV: 82.47% \n",
                        "\n",
                        "Classification Report: \n",
                        " \n",
                        "              precision    recall  f1-score   support\n",
                        "\n",
                        "           0       0.86      0.91      0.88      1036\n",
                        "           1       0.70      0.58      0.64       373\n",
                        "\n",
                        "    accuracy                           0.82      1409\n",
                        "   macro avg       0.78      0.75      0.76      1409\n",
                        "weighted avg       0.82      0.82      0.82      1409\n",
                        "\n",
                        "Accuracy of LogisticRegression [No Optimized Hyperparameters]: 82.11% \n",
                        "\n",
                        "Classification Report: \n",
                        " \n",
                        "              precision    recall  f1-score   support\n",
                        "\n",
                        "           0       0.86      0.90      0.88      1036\n",
                        "           1       0.69      0.60      0.64       373\n",
                        "\n",
                        "    accuracy                           0.82      1409\n",
                        "   macro avg       0.77      0.75      0.76      1409\n",
                        "weighted avg       0.81      0.82      0.82      1409\n",
                        "\n"
                    ]
                }
            ],
            "source": [
                "grid_model = LogisticRegression(C=best_clf.best_params_['C'], max_iter=best_clf.best_params_['max_iter'], \\\n",
                "    penalty=best_clf.best_params_['penalty'], solver=best_clf.best_params_['solver'])\n",
                "\n",
                "grid_model.fit(CD_X_train, CD_y_train)\n",
                "grid_churn_pred = grid_model.predict(CD_X_test)\n",
                "\n",
                "\n",
                "#######################################################################################################################\n",
                "\n",
                "random_model = LogisticRegression(C=best_clf2.best_params_['C'], max_iter=best_clf2.best_params_['max_iter'], \\\n",
                "    penalty=best_clf2.best_params_['penalty'], solver=best_clf2.best_params_['solver'])\n",
                "\n",
                "random_model.fit(CD_X_train, CD_y_train)\n",
                "random_churn_pred = random_model.predict(CD_X_test)    \n",
                "\n",
                "#######################################################################################################################\n",
                "\n",
                "model = LogisticRegression()\n",
                "\n",
                "model.fit(CD_X_train, CD_y_train)\n",
                "model_pred = model.predict(CD_X_test)\n",
                "\n",
                "print(\"Accuracy of RandomizedSearchCV: {:.2f}% \n \".format(accuracy_score(CD_y_test, random_churn_pred) * 100))\n",
                "print(\"Classification Report: \n \n\" + classification_report(CD_y_test, random_churn_pred))\n",
                "\n",
                "print(\"Accuracy of GridSearchCV: {:.2f}% \n\".format(accuracy_score(CD_y_test, grid_churn_pred) * 100))\n",
                "print(\"Classification Report: \n \n\" + classification_report(CD_y_test, grid_churn_pred))\n",
                "\n",
                "print(\"Accuracy of LogisticRegression [No Optimized Hyperparameters]: {:.2f}% \n\".format(accuracy_score(CD_y_test, model_pred) * 100))\n",
                "print(\"Classification Report: \n \n\" + classification_report(CD_y_test, model_pred))\n"
            ]
        },
        {
            "cell_type": "markdown",
            "metadata": {},
            "source": [
                "**Analysis of Model Metrics**\n",
                "\n",
                "| Metric     | RandomizedSearchCV    | GridSearchCV     | Default     |\n",
                "|--------------|--------------|--------------|--------------|\n",
                "| Precision     | Class 0 = 0.86, Class 1 = 0.68 | Class 0 = 0.86, Class 1 = 0.70 | Class 0 = 0.86, Class 1 = 0.69 |\n",
                "| Recall   | Class 0 = 0.90, Class 1 = 0.60 | Class 0 = 0.91, Class 1 = 0.58 | Class 0 = 0.90, Class 1 = 0.60 |\n",
                "| F1-Score | Class 0 = 0.88, Class 1 = 0.64 | Class 0 = 0.88, Class 1 = 0.64 | Class 0 = 0.88, Class 1 = 0.64 |\n",
                "\n",
                "- Model performance is consistent mostly throughout any hyperparameter tuning method\n",
                "- There is only slight variations between these different metrics, Higher recall in class 0 for GridSearchCV, higher precision for Class 1 in GridSearchCV\n",
                "- Reasons for this could be that the default hyperparameters for this model produced nearly the best output. \n",
                "- We will use the GridSearchCV hyperparameters for our model, since it has the best performance\n"
            ]
        },
        {
            "cell_type": "markdown",
            "metadata": {},
            "source": [
                "## Metrics and Comparisons"
            ]
        },
        {
            "cell_type": "code",
            "execution_count": 54,
            "metadata": {},
            "outputs": [
                {
                    "data": {
                        "image/png": "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",
                        "text/plain": [
                            "<Figure size 800x600 with 1 Axes>"
                        ]
                    },
                    "metadata": {},
                    "output_type": "display_data"
                }
            ],
            "source": [
                "#AUC-ROC curve plots True Positive Rate against False Positive Rate at different thresholds showing how well a model can distinguish between customers that stay vs leave.\n",
                "#TPR = p(True Positives are found)\n",
                "#FPR = p(False Positives are found)\n",
                "ChurnModel = grid_model.fit(CD_X_train, CD_y_train)\n",
                "\n",
                "y_prob = ChurnModel.predict_proba(CD_X_test)[:, 1]\n",
                "fpr, tpr, thresholds = roc_curve(CD_y_test, y_prob)\n",
                "roc_auc = auc(fpr, tpr)\n",
                " \n",
                "plt.figure(figsize=(8, 6))\n",
                "plt.plot(fpr, tpr, color='darkorange', lw=2,\n",
                "         label=f'ROC Curve (AUC = {roc_auc:.2f})')\n",
                "plt.plot([0, 1], [0, 1], color='navy', lw=2, linestyle='--', label='Random')\n",
                "plt.xlabel('False Positive Rate')\n",
                "plt.ylabel('True Positive Rate')\n",
                "plt.title('Receiver Operating Characteristic (ROC) Curve\nAccuracy: {:.2f}%'.format(accuracy_score(CD_y_test, grid_churn_pred) * 100))\n",
                "plt.legend(loc=\"lower right\")\n",
                "plt.show()"
            ]
        },
        {
            "cell_type": "markdown",
            "metadata": {},
            "source": [
                "## Statistical Analysis"
            ]
        },
        {
            "cell_type": "code",
            "execution_count": 59,
            "metadata": {},
            "outputs": [
                {
                    "name": "stdout",
                    "output_type": "stream",
                    "text": [
                        "Optimization terminated successfully.\n",
                        "         Current function value: 0.414247\n",
                        "         Iterations 8\n"
                    ]
                }
            ],
            "source": [
                "#statsmodels.api has a package [logit] that provides a summary on the independent and dependent variables\n",
                "\n",
                "sm.Logit(Churn_y, Churn_X)\n",
                "mcs = sm.Logit(Churn_y, Churn_X).fit().summary()\n",
                "\n",
                "relevant_metrics = pd.DataFrame()\n",
                "model_coefficients = pd.DataFrame()\n",
                "\n",
                "for i in range(2):\n",
                "    if i == 0:\n",
                "        relevant_metrics = pd.read_html(mcs.tables[0].as_html())\n",
                "    else:\n",
                "        model_coefficients = pd.read_html(mcs.tables[1].as_html())\n",
                "\n",
                "mc_map = {0: 'ColumnName', 1: 'Coef', 2: 'Std. Err', 3: 'z', 4: 'P>|z|', 5: '[0.025', 6: '0.975]'}\n",
                "\n",
                "model_coefficients[0].rename(mc_map,axis=1,inplace=True)\n",
                "model_coefficients = model_coefficients[0].loc[1:];\n",
                "\n",
                "relevant_metrics = relevant_metrics[0]"
            ]
        },
        {
            "cell_type": "code",
            "execution_count": 56,
            "metadata": {},
            "outputs": [
                {
                    "data": {
                        "text/html": [
                            "<div>\n",
                            "<style scoped>\n",
                            "    .dataframe tbody tr th:only-of-type {\n",
                            "        vertical-align: middle;\n",
                            "    }\n",
                            "\n",
                            "    .dataframe tbody tr th {\n",
                            "        vertical-align: top;\n",
                            "    }\n",
                            "\n",
                            "    .dataframe thead th {\n",
                            "        text-align: right;\n",
                            "    }\n",
                            "</style>\n",
                            "<table border=\"1\" class=\"dataframe\">\n",
                            "  <thead>\n",
                            "    <tr style=\"text-align: right;\">\n",
                            "      <th></th>\n",
                            "      <th></th>\n",
                            "      <th></th>\n",
                            "    </tr>\n",
                            "  </thead>\n",
                            "  <tbody>\n",
                            "    <tr>\n",
                            "      <th>0</th>\n",
                            "      <td>Dep. Variable:</td>\n",
                            "      <td>Churn</td>\n",
                            "    </tr>\n",
                            "    <tr>\n",
                            "      <th>1</th>\n",
                            "      <td>Model:</td>\n",
                            "      <td>Logit</td>\n",
                            "    </tr>\n",
                            "    <tr>\n",
                            "      <th>2</th>\n",
                            "      <td>Method:</td>\n",
                            "      <td>MLE</td>\n",
                            "    </tr>\n",
                            "    <tr>\n",
                            "      <th>3</th>\n",
                            "      <td>Date:</td>\n",
                            "      <td>Thu, 27 Feb 2025</td>\n",
                            "    </tr>\n",
                            "    <tr>\n",
                            "      <th>4</th>\n",
                            "      <td>Time:</td>\n",
                            "      <td>19:04:38</td>\n",
                            "    </tr>\n",
                            "    <tr>\n",
                            "      <th>5</th>\n",
                            "      <td>converged:</td>\n",
                            "      <td>True</td>\n",
                            "    </tr>\n",
                            "    <tr>\n",
                            "      <th>6</th>\n",
                            "      <td>Covariance Type:</td>\n",
                            "      <td>nonrobust</td>\n",
                            "    </tr>\n",
                            "  </tbody>\n",
                            "</table>\n",
                            "</div>"
                        ],
                        "text/plain": [
                            "                                     \n",
                            "0    Dep. Variable:             Churn\n",
                            "1            Model:             Logit\n",
                            "2           Method:               MLE\n",
                            "3             Date:  Thu, 27 Feb 2025\n",
                            "4             Time:          19:04:38\n",
                            "5        converged:              True\n",
                            "6  Covariance Type:         nonrobust"
                        ]
                    },
                    "execution_count": 56,
                    "metadata": {},
                    "output_type": "execute_result"
                }
            ],
            "source": [
                "rename_nothing = {0: '', 1: ''}\n",
                "\n",
                "other_info = relevant_metrics.iloc[:,[0,1]].rename(columns = rename_nothing)\n",
                "other_info"
            ]
        },
        {
            "cell_type": "markdown",
            "metadata": {},
            "source": [
                "# Statistically Significant Figures\n",
                "\n",
                "A p-value of < .05 indicates that the likelihood of obtaining the observed data, assuming no relationship, is less than 5%. This means that the observed effect is not random, inferring a statistically significant relationship between the feature and the dependent variable - **`Churn`** .\n",
                "\n",
                "## Key Findings\n",
                "\n",
                "- **Paperless Billing**: Customers with paperless billing or those who use electronic checks have a significant chance of churning.\n",
                "- **Senior Citizen**: Older individuals are more likely to leave the Telco service.\n",
                "- **Contract_Two Year / Contract_One year** although not very insightful, customers that had a one year or two year contract were likely not going to churn.\n",
                "- **Total Charges** total charges didn't have that much of an effect on whether or not a customer churns or not."
            ]
        },
        {
            "cell_type": "code",
            "execution_count": 57,
            "metadata": {},
            "outputs": [
                {
                    "data": {
                        "text/html": [
                            "<div>\n",
                            "<style scoped>\n",
                            "    .dataframe tbody tr th:only-of-type {\n",
                            "        vertical-align: middle;\n",
                            "    }\n",
                            "\n",
                            "    .dataframe tbody tr th {\n",
                            "        vertical-align: top;\n",
                            "    }\n",
                            "\n",
                            "    .dataframe thead th {\n",
                            "        text-align: right;\n",
                            "    }\n",
                            "</style>\n",
                            "<table border=\"1\" class=\"dataframe\">\n",
                            "  <thead>\n",
                            "    <tr style=\"text-align: right;\">\n",
                            "      <th></th>\n",
                            "      <th>ColumnName</th>\n",
                            "      <th>Coef</th>\n",
                            "      <th>Std. Err</th>\n",
                            "      <th>z</th>\n",
                            "      <th>P&gt;|z|</th>\n",
                            "      <th>[0.025</th>\n",
                            "      <th>0.975]</th>\n",
                            "    </tr>\n",
                            "  </thead>\n",
                            "  <tbody>\n",
                            "    <tr>\n",
                            "      <th>7</th>\n",
                            "      <td>PaperlessBilling</td>\n",
                            "      <td>0.3479</td>\n",
                            "      <td>0.074</td>\n",
                            "      <td>4.677</td>\n",
                            "      <td>0.000</td>\n",
                            "      <td>0.202</td>\n",
                            "      <td>0.494</td>\n",
                            "    </tr>\n",
                            "    <tr>\n",
                            "      <th>22</th>\n",
                            "      <td>PaymentMethod_Electronic check</td>\n",
                            "      <td>0.3078</td>\n",
                            "      <td>0.094</td>\n",
                            "      <td>3.258</td>\n",
                            "      <td>0.001</td>\n",
                            "      <td>0.123</td>\n",
                            "      <td>0.493</td>\n",
                            "    </tr>\n",
                            "    <tr>\n",
                            "      <th>2</th>\n",
                            "      <td>SeniorCitizen</td>\n",
                            "      <td>0.2132</td>\n",
                            "      <td>0.085</td>\n",
                            "      <td>2.522</td>\n",
                            "      <td>0.012</td>\n",
                            "      <td>0.047</td>\n",
                            "      <td>0.379</td>\n",
                            "    </tr>\n",
                            "    <tr>\n",
                            "      <th>8</th>\n",
                            "      <td>MonthlyCharges</td>\n",
                            "      <td>0.0291</td>\n",
                            "      <td>0.005</td>\n",
                            "      <td>5.383</td>\n",
                            "      <td>0.000</td>\n",
                            "      <td>0.018</td>\n",
                            "      <td>0.040</td>\n",
                            "    </tr>\n",
                            "    <tr>\n",
                            "      <th>9</th>\n",
                            "      <td>TotalCharges</td>\n",
                            "      <td>0.0003</td>\n",
                            "      <td>6.86e-05</td>\n",
                            "      <td>4.370</td>\n",
                            "      <td>0.000</td>\n",
                            "      <td>0.000</td>\n",
                            "      <td>0.000</td>\n",
                            "    </tr>\n",
                            "    <tr>\n",
                            "      <th>6</th>\n",
                            "      <td>PhoneService</td>\n",
                            "      <td>-1.8277</td>\n",
                            "      <td>0.231</td>\n",
                            "      <td>-7.898</td>\n",
                            "      <td>0.000</td>\n",
                            "      <td>-2.281</td>\n",
                            "      <td>-1.374</td>\n",
                            "    </tr>\n",
                            "    <tr>\n",
                            "      <th>20</th>\n",
                            "      <td>Contract_Two year</td>\n",
                            "      <td>-1.4024</td>\n",
                            "      <td>0.176</td>\n",
                            "      <td>-7.979</td>\n",
                            "      <td>0.000</td>\n",
                            "      <td>-1.747</td>\n",
                            "      <td>-1.058</td>\n",
                            "    </tr>\n",
                            "    <tr>\n",
                            "      <th>19</th>\n",
                            "      <td>Contract_One year</td>\n",
                            "      <td>-0.6755</td>\n",
                            "      <td>0.107</td>\n",
                            "      <td>-6.293</td>\n",
                            "      <td>0.000</td>\n",
                            "      <td>-0.886</td>\n",
                            "      <td>-0.465</td>\n",
                            "    </tr>\n",
                            "    <tr>\n",
                            "      <th>10</th>\n",
                            "      <td>MultipleLines_No phone service</td>\n",
                            "      <td>-0.6094</td>\n",
                            "      <td>0.209</td>\n",
                            "      <td>-2.920</td>\n",
                            "      <td>0.004</td>\n",
                            "      <td>-1.018</td>\n",
                            "      <td>-0.200</td>\n",
                            "    </tr>\n",
                            "    <tr>\n",
                            "      <th>13</th>\n",
                            "      <td>OnlineSecurity_Yes</td>\n",
                            "      <td>-0.5431</td>\n",
                            "      <td>0.094</td>\n",
                            "      <td>-5.801</td>\n",
                            "      <td>0.000</td>\n",
                            "      <td>-0.727</td>\n",
                            "      <td>-0.360</td>\n",
                            "    </tr>\n",
                            "    <tr>\n",
                            "      <th>16</th>\n",
                            "      <td>TechSupport_Yes</td>\n",
                            "      <td>-0.5201</td>\n",
                            "      <td>0.094</td>\n",
                            "      <td>-5.525</td>\n",
                            "      <td>0.000</td>\n",
                            "      <td>-0.705</td>\n",
                            "      <td>-0.336</td>\n",
                            "    </tr>\n",
                            "    <tr>\n",
                            "      <th>14</th>\n",
                            "      <td>OnlineBackup_Yes</td>\n",
                            "      <td>-0.3136</td>\n",
                            "      <td>0.085</td>\n",
                            "      <td>-3.692</td>\n",
                            "      <td>0.000</td>\n",
                            "      <td>-0.480</td>\n",
                            "      <td>-0.147</td>\n",
                            "    </tr>\n",
                            "    <tr>\n",
                            "      <th>15</th>\n",
                            "      <td>DeviceProtection_Yes</td>\n",
                            "      <td>-0.1930</td>\n",
                            "      <td>0.086</td>\n",
                            "      <td>-2.239</td>\n",
                            "      <td>0.025</td>\n",
                            "      <td>-0.362</td>\n",
                            "      <td>-0.024</td>\n",
                            "    </tr>\n",
                            "    <tr>\n",
                            "      <th>5</th>\n",
                            "      <td>tenure</td>\n",
                            "      <td>-0.0579</td>\n",
                            "      <td>0.006</td>\n",
                            "      <td>-9.630</td>\n",
                            "      <td>0.000</td>\n",
                            "      <td>-0.070</td>\n",
                            "      <td>-0.046</td>\n",
                            "    </tr>\n",
                            "  </tbody>\n",
                            "</table>\n",
                            "</div>"
                        ],
                        "text/plain": [
                            "                        ColumnName     Coef  Std. Err       z  P>|z|  [0.025  \\\n",
                            "7                 PaperlessBilling   0.3479     0.074   4.677  0.000   0.202   \n",
                            "22  PaymentMethod_Electronic check   0.3078     0.094   3.258  0.001   0.123   \n",
                            "2                    SeniorCitizen   0.2132     0.085   2.522  0.012   0.047   \n",
                            "8                   MonthlyCharges   0.0291     0.005   5.383  0.000   0.018   \n",
                            "9                     TotalCharges   0.0003  6.86e-05   4.370  0.000   0.000   \n",
                            "6                     PhoneService  -1.8277     0.231  -7.898  0.000  -2.281   \n",
                            "20               Contract_Two year  -1.4024     0.176  -7.979  0.000  -1.747   \n",
                            "19               Contract_One year  -0.6755     0.107  -6.293  0.000  -0.886   \n",
                            "10  MultipleLines_No phone service  -0.6094     0.209  -2.920  0.004  -1.018   \n",
                            "13              OnlineSecurity_Yes  -0.5431     0.094  -5.801  0.000  -0.727   \n",
                            "16                 TechSupport_Yes  -0.5201     0.094  -5.525  0.000  -0.705   \n",
                            "14                OnlineBackup_Yes  -0.3136     0.085  -3.692  0.000  -0.480   \n",
                            "15            DeviceProtection_Yes  -0.1930     0.086  -2.239  0.025  -0.362   \n",
                            "5                           tenure  -0.0579     0.006  -9.630  0.000  -0.070   \n",
                            "\n",
                            "    0.975]  \n",
                            "7    0.494  \n",
                            "22   0.493  \n",
                            "2    0.379  \n",
                            "8    0.040  \n",
                            "9    0.000  \n",
                            "6   -1.374  \n",
                            "20  -1.058  \n",
                            "19  -0.465  \n",
                            "10  -0.200  \n",
                            "13  -0.360  \n",
                            "16  -0.336  \n",
                            "14  -0.147  \n",
                            "15  -0.024  \n",
                            "5   -0.046  "
                        ]
                    },
                    "execution_count": 57,
                    "metadata": {},
                    "output_type": "execute_result"
                }
            ],
            "source": [
                "model_coefficients.loc[model_coefficients['P>|z|'].astype(float) < .05].sort_values(by='Coef',ascending=False)"
            ]
        }
    ],
    "metadata": {
        "kernelspec": {
            "display_name": ".venv",
            "language": "python",
            "name": "python3"
        },
        "language_info": {
            "codemirror_mode": {
                "name": "ipython",
                "version": 3
            },
            "file_extension": ".py",
            "mimetype": "text/x-python",
            "name": "python",
            "nbconvert_exporter": "python",
            "pygments_lexer": "ipython3",
            "version": "3.11.9"
        }
    },
    "nbformat": 4,
    "nbformat_minor": 2
>>>>>>> dd8417ad219617b3b3bbe60c5ba22992a279c014
}
